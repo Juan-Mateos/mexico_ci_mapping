{
 "cells": [
  {
   "cell_type": "code",
   "execution_count": 1,
   "metadata": {},
   "outputs": [],
   "source": [
    "# Descarga todo el DENUE\n",
    "\n",
    "from bs4 import BeautifulSoup\n",
    "import ratelim\n",
    "import zipfile\n",
    "import io\n",
    "\n",
    "with open('../data/external/descarga_inegi/DescargaMasivaOD.xml','r') as infile:\n",
    "    files = infile.read()\n"
   ]
  },
  {
   "cell_type": "code",
   "execution_count": 2,
   "metadata": {},
   "outputs": [
    {
     "name": "stderr",
     "output_type": "stream",
     "text": [
      "/usr/local/lib/python3.7/site-packages/bs4/__init__.py:181: UserWarning: No parser was explicitly specified, so I'm using the best available HTML parser for this system (\"html5lib\"). This usually isn't a problem, but if you run this code on another system, or in a different virtual environment, it may use a different parser and behave differently.\n",
      "\n",
      "The code that caused this warning is on line 193 of the file /usr/local/Cellar/python/3.7.0/Frameworks/Python.framework/Versions/3.7/lib/python3.7/runpy.py. To get rid of this warning, change code that looks like this:\n",
      "\n",
      " BeautifulSoup(YOUR_MARKUP})\n",
      "\n",
      "to this:\n",
      "\n",
      " BeautifulSoup(YOUR_MARKUP, \"html5lib\")\n",
      "\n",
      "  markup_type=markup_type))\n"
     ]
    }
   ],
   "source": [
    "parsed = BeautifulSoup(files)\n",
    "\n",
    "urls = files = [x.text for x in parsed.find_all('archivo')]"
   ]
  },
  {
   "cell_type": "code",
   "execution_count": 3,
   "metadata": {},
   "outputs": [],
   "source": [
    "files_dl = [x for x in urls if ((len(x.split('_'))==4) or ('2015' in x)) & ('csv' in x)]"
   ]
  },
  {
   "cell_type": "code",
   "execution_count": 14,
   "metadata": {},
   "outputs": [
    {
     "data": {
      "text/plain": [
       "['http://www.beta.inegi.org.mx/contenidos/masiva/denue/denue_00_22_csv.zip',\n",
       " 'http://www.beta.inegi.org.mx/contenidos/masiva/denue/denue_00_51_csv.zip']"
      ]
     },
     "execution_count": 14,
     "metadata": {},
     "output_type": "execute_result"
    }
   ],
   "source": [
    "files_subset = [x for x in files_dl if ('2015' not in x) and any(y in x for y in ['22','51'])]\n",
    "\n",
    "files_subset"
   ]
  },
  {
   "cell_type": "code",
   "execution_count": 4,
   "metadata": {},
   "outputs": [],
   "source": [
    "data = requests.get(urls[0])"
   ]
  },
  {
   "cell_type": "code",
   "execution_count": 16,
   "metadata": {},
   "outputs": [],
   "source": [
    "@ratelim.patient(max_calls=10,time_interval=60)\n",
    "def get_denue_data(url):\n",
    "    print(f'working on {url}')\n",
    "    \n",
    "    #Download\n",
    "    dl = requests.get(url)\n",
    "    \n",
    "    #Parse\n",
    "    zf = zipfile.ZipFile(io.BytesIO(dl.content))\n",
    "    \n",
    "    #If it is a 2015\n",
    "    if '2015' in url:\n",
    "        zf.extractall('../data/external/inegi_aug_2018/inegi_2015/')\n",
    "        \n",
    "    else:\n",
    "        zf.extractall('../data/external/inegi_aug_2018/inegi_2018/')\n",
    "        \n",
    "        \n",
    "    \n",
    "    #with open('../data/external/inegi_aug_2018/'+url.split('/')[1],'wb') as outfile:\n",
    "    #    dl;\n",
    "        \n",
    "    print(f'{url} done')\n",
    "    "
   ]
  },
  {
   "cell_type": "code",
   "execution_count": 17,
   "metadata": {},
   "outputs": [
    {
     "name": "stdout",
     "output_type": "stream",
     "text": [
      "working on http://www.beta.inegi.org.mx/contenidos/masiva/denue/denue_00_22_csv.zip\n",
      "http://www.beta.inegi.org.mx/contenidos/masiva/denue/denue_00_22_csv.zip done\n",
      "working on http://www.beta.inegi.org.mx/contenidos/masiva/denue/denue_00_51_csv.zip\n",
      "http://www.beta.inegi.org.mx/contenidos/masiva/denue/denue_00_51_csv.zip done\n"
     ]
    },
    {
     "data": {
      "text/plain": [
       "[None, None]"
      ]
     },
     "execution_count": 17,
     "metadata": {},
     "output_type": "execute_result"
    }
   ],
   "source": [
    "#[get_denue_data(x) for x in files_dl]\n",
    "\n",
    "#[get_denue_data(x) for x in files_dl[32:]]\n",
    "\n",
    "[get_denue_data(x) for x in files_subset]"
   ]
  },
  {
   "cell_type": "code",
   "execution_count": 18,
   "metadata": {},
   "outputs": [],
   "source": [
    "dl = requests.get(files_subset[0])"
   ]
  },
  {
   "cell_type": "code",
   "execution_count": 19,
   "metadata": {},
   "outputs": [],
   "source": [
    "zf = zipfile.ZipFile(io.BytesIO(dl.content))"
   ]
  },
  {
   "cell_type": "code",
   "execution_count": 21,
   "metadata": {},
   "outputs": [
    {
     "data": {
      "text/plain": [
       "[<ZipInfo filename='denue_00_22_csv/' external_attr=0x10>,\n",
       " <ZipInfo filename='denue_00_22_csv/conjunto_de_datos/' external_attr=0x10>,\n",
       " <ZipInfo filename='denue_00_22_csv/conjunto_de_datos/denue_inegi_22_.csv' compress_type=deflate external_attr=0x20 file_size=3906690 compress_size=692182>,\n",
       " <ZipInfo filename='denue_00_22_csv/diccionario_de_datos/' external_attr=0x10>,\n",
       " <ZipInfo filename='denue_00_22_csv/diccionario_de_datos/denue_diccionario_de_datos.csv' compress_type=deflate external_attr=0x80 file_size=9807 compress_size=3323>,\n",
       " <ZipInfo filename='denue_00_22_csv/metadatos/' external_attr=0x10>,\n",
       " <ZipInfo filename='denue_00_22_csv/metadatos/metadatos_denue.txt' compress_type=deflate external_attr=0x80 file_size=3022 compress_size=1357>]"
      ]
     },
     "execution_count": 21,
     "metadata": {},
     "output_type": "execute_result"
    }
   ],
   "source": [
    "zf.filelist"
   ]
  },
  {
   "cell_type": "code",
   "execution_count": null,
   "metadata": {},
   "outputs": [],
   "source": []
  }
 ],
 "metadata": {
  "kernelspec": {
   "display_name": "Python 3",
   "language": "python",
   "name": "python3"
  },
  "language_info": {
   "codemirror_mode": {
    "name": "ipython",
    "version": 3
   },
   "file_extension": ".py",
   "mimetype": "text/x-python",
   "name": "python",
   "nbconvert_exporter": "python",
   "pygments_lexer": "ipython3",
   "version": "3.7.0"
  }
 },
 "nbformat": 4,
 "nbformat_minor": 2
}
