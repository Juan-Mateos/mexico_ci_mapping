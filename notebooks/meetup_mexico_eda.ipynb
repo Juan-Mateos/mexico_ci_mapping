{
 "cells": [
  {
   "cell_type": "markdown",
   "metadata": {},
   "source": [
    "# Meetup Mexico analysis\n",
    "\n",
    "\n",
    "Tech meetups are events where people get together to network and share skills. Meetup is a platform used by many people to set up these events. We have previously used the platform to analye levels of activity in different creative communities in the UK.\n",
    "\n",
    "For creative industries mapping project, we have collected data about all tech meetups in Mexico. Our goal is to measure levels of creative networking in different cities, how this has evolved and the networks between them. In order to do this we need to do some data processing:\n",
    "\n",
    "* We need to identify creative communities -> We perform a topic modelling analysis in the keywords used by conference organisers to tag their events. This gives us a set of topics we can then classify into creative / non-creative categories.\n",
    "\n",
    "* We need to geocode creative communities -> We place each group in a Mexican state using their longitde and latitude and a shapefile defining the states as polygons.\n",
    "\n",
    "* We need to map relations between communities -> We use overlaps between individual memberships in communities to proxy their interactions: those communities with more intersections in their populations are more strongly connected than those with less."
   ]
  },
  {
   "cell_type": "markdown",
   "metadata": {},
   "source": [
    "## Preamble\n",
    "\n",
    "* Imports, directory management and functions\n"
   ]
  },
  {
   "cell_type": "code",
   "execution_count": 1,
   "metadata": {
    "collapsed": true
   },
   "outputs": [],
   "source": [
    "%matplotlib inline\n",
    "\n",
    "#Key imports are loaded from my profile (see standard_imports.py in src folder).\n",
    "\n",
    "#Other imports \n",
    "\n",
    "#Zipfile to work with zips.\n",
    "import zipfile\n",
    "\n",
    "#Spacy and geopandas for spatial stuff\n",
    "import spacy\n",
    "import geopandas as gp\n",
    "\n",
    "#Paths\n",
    "\n",
    "#Paths\n",
    "top = os.path.dirname(os.getcwd())\n",
    "\n",
    "#External data\n",
    "ext_data = os.path.join(top,'data/external')\n",
    "\n",
    "#Metadata\n",
    "meta_data = os.path.join(top,'data/metadata')\n",
    "\n",
    "#Interim data\n",
    "int_data = os.path.join(top,'data/interim')\n",
    "\n",
    "#Processed data\n",
    "proc_data = os.path.join(top,'data/processed')\n",
    "\n",
    "#Figures\n",
    "fig_path = os.path.join(top,'reports/final_figures')\n",
    "\n",
    "#Tables\n",
    "tab_path = os.path.join(top,'reports/tables')\n",
    "\n",
    "#Models\n",
    "mod_path = os.path.join(top,'models')\n",
    "\n",
    "#Visualisations\n",
    "viz_path = os.path.join(top,'src/visualization')\n",
    "\n",
    "#Get date for saving files\n",
    "today = datetime.datetime.today()\n",
    "\n",
    "today_str = \"_\".join([str(x) for x in [today.day,today.month,today.year]])"
   ]
  },
  {
   "cell_type": "markdown",
   "metadata": {},
   "source": [
    "## 1. Load data"
   ]
  },
  {
   "cell_type": "markdown",
   "metadata": {},
   "source": [
    "### Load metadata"
   ]
  },
  {
   "cell_type": "markdown",
   "metadata": {},
   "source": [
    "Load shapefiles for mapping. We downloaded them from [here](http://www.inegi.org.mx/geo/contenidos/geoestadistica/m_geoestadistico.aspx)."
   ]
  },
  {
   "cell_type": "code",
   "execution_count": 245,
   "metadata": {
    "collapsed": false
   },
   "outputs": [
    {
     "data": {
      "text/plain": [
       "<matplotlib.axes._subplots.AxesSubplot at 0x120bb7fd0>"
      ]
     },
     "execution_count": 245,
     "metadata": {},
     "output_type": "execute_result"
    },
    {
     "data": {
      "image/png": "[encoded data removed]",
      "text/plain": [
       "<matplotlib.figure.Figure at 0x120c31cf8>"
      ]
     },
     "metadata": {},
     "output_type": "display_data"
    }
   ],
   "source": [
    "#estados = gp.read_file(meta_data+'/inegi_shapefile/conjunto_de_datos/areas_geoestadisticas_estatales.shp')\n",
    "#We use a shapefile using the WSG standard. \n",
    "#The shapefile from inegi which we used in our DENUE analysis is based in a different projection.\n",
    "estados = gp.read_file(meta_data+'/mexstates/mexstates.shp')\n",
    "\n",
    "#Viva México!\n",
    "estados.plot()"
   ]
  },
  {
   "cell_type": "markdown",
   "metadata": {},
   "source": [
    "### Load meetup group data\n",
    "\n",
    "In this json file, each element is a group with some metadata\n"
   ]
  },
  {
   "cell_type": "code",
   "execution_count": 31,
   "metadata": {
    "collapsed": false
   },
   "outputs": [],
   "source": [
    "#Load the data\n",
    "with open(ext_data+'/meetup_groups.json','r') as infile:\n",
    "    groups = json.load(infile)"
   ]
  },
  {
   "cell_type": "code",
   "execution_count": 32,
   "metadata": {
    "collapsed": false
   },
   "outputs": [
    {
     "name": "stdout",
     "output_type": "stream",
     "text": [
      "1163\n",
      "279761.0\n"
     ]
    }
   ],
   "source": [
    "#Focus on Mexican groups\n",
    "mex_groups = [x for x in groups if x['country']=='MX']\n",
    "\n",
    "print(len(mex_groups))\n",
    "\n",
    "print(np.sum([x['members'] for x in mex_groups]))"
   ]
  },
  {
   "cell_type": "markdown",
   "metadata": {},
   "source": [
    "There are 1163 groups in the data with 2790,761 members"
   ]
  },
  {
   "cell_type": "code",
   "execution_count": 35,
   "metadata": {
    "collapsed": false
   },
   "outputs": [
    {
     "data": {
      "text/plain": [
       "dict_keys(['city', 'lon', 'lat', 'country_name', 'id', 'members', 'category_id', 'country', 'description', 'category_shortname', 'name', 'urlname', 'created', 'topics', 'category_name'])"
      ]
     },
     "execution_count": 35,
     "metadata": {},
     "output_type": "execute_result"
    }
   ],
   "source": [
    "#These are the variables\n",
    "mex_groups[0].keys()"
   ]
  },
  {
   "cell_type": "markdown",
   "metadata": {},
   "source": [
    "### Load meetup member data"
   ]
  },
  {
   "cell_type": "code",
   "execution_count": 36,
   "metadata": {
    "collapsed": false
   },
   "outputs": [],
   "source": [
    "#Load the data\n",
    "with open(ext_data+'/meetup_groups_members.json','r') as infile:\n",
    "    members = json.load(infile)"
   ]
  },
  {
   "cell_type": "code",
   "execution_count": 48,
   "metadata": {
    "collapsed": false
   },
   "outputs": [],
   "source": [
    "#There are 1.4m people here. Let's look for the ones in Mexican groups\n",
    "#This is a list of group ids\n",
    "mex_groups_ids = set([x['id'] for x in mex_groups])"
   ]
  },
  {
   "cell_type": "code",
   "execution_count": 51,
   "metadata": {
    "collapsed": false
   },
   "outputs": [],
   "source": [
    "#Extract users with mexican ids\n",
    "mex_users = [x for x in members if x['group_id'] in mex_groups_ids]"
   ]
  },
  {
   "cell_type": "code",
   "execution_count": 52,
   "metadata": {
    "collapsed": false
   },
   "outputs": [
    {
     "data": {
      "text/plain": [
       "64288"
      ]
     },
     "execution_count": 52,
     "metadata": {},
     "output_type": "execute_result"
    }
   ],
   "source": [
    "#How many unique people here?\n",
    "\n",
    "len(set([x['member_id'] for x in mex_users]))"
   ]
  },
  {
   "cell_type": "markdown",
   "metadata": {},
   "source": [
    "64,288 unique individuals"
   ]
  },
  {
   "cell_type": "markdown",
   "metadata": {},
   "source": [
    "## 2. Processing data\n",
    "\n",
    "There are two bits of processing we need to do before we get started with the analysis:\n",
    "\n",
    "1. Classify groups into categories (to identify the creative groups)\n",
    "2. Classify groups into states (for mapping etc.) \n"
   ]
  },
  {
   "cell_type": "markdown",
   "metadata": {},
   "source": [
    "### Classify groups into topics (including creative topics)\n",
    "\n",
    "As a first pass we will use LDA, a topic modelling algorithm that extracts topics from collections of words. To do this efficiently, we will create a small pipeline using the gensim package for Natural language processing\n"
   ]
  },
  {
   "cell_type": "code",
   "execution_count": 356,
   "metadata": {
    "collapsed": false
   },
   "outputs": [
    {
     "data": {
      "text/plain": [
       "1161"
      ]
     },
     "execution_count": 356,
     "metadata": {},
     "output_type": "execute_result"
    }
   ],
   "source": [
    "len(mex_topics_dict)"
   ]
  },
  {
   "cell_type": "code",
   "execution_count": 369,
   "metadata": {
    "collapsed": false
   },
   "outputs": [],
   "source": [
    "#What are the top topics?\n",
    "\n",
    "#First we need to extract the topics from the json object.\n",
    "#Every element has an element with a list of topics for which we want to extract the tidy,\n",
    "#easy to analyse  unique url keys\n",
    "#mex_topics_dict = {str(int(x['id'])):[top['urlkey'] for top in x['topics']] for x in mex_groups}\n",
    "\n",
    "#And this is a list where every element is the list of keywords\n",
    "#mex_topics_list = list(mex_topics_dict.values())\n",
    "\n",
    "mex_topics_list = [[top['urlkey'] for top in x['topics']] for x in mex_groups]"
   ]
  },
  {
   "cell_type": "code",
   "execution_count": 370,
   "metadata": {
    "collapsed": false
   },
   "outputs": [
    {
     "data": {
      "text/plain": [
       "entrepreneurship           361\n",
       "softwaredev                313\n",
       "newtech                    306\n",
       "computer-programming       301\n",
       "startup-businesses         271\n",
       "professional-networking    251\n",
       "web-development            228\n",
       "business-strategy          222\n",
       "opensource                 204\n",
       "web                        198\n",
       "dtype: int64"
      ]
     },
     "execution_count": 370,
     "metadata": {},
     "output_type": "execute_result"
    }
   ],
   "source": [
    "#Count the top keywords\n",
    "meetup_kw_distr = pd.Series([x for el in mex_topics_list for x in el]).value_counts()\n",
    "\n",
    "#What are the top 10?\n",
    "meetup_kw_distr[:10]"
   ]
  },
  {
   "cell_type": "code",
   "execution_count": 371,
   "metadata": {
    "collapsed": false
   },
   "outputs": [
    {
     "data": {
      "text/plain": [
       "count    2053.000000\n",
       "mean        6.211398\n",
       "std        22.170396\n",
       "min         1.000000\n",
       "25%         1.000000\n",
       "50%         1.000000\n",
       "75%         4.000000\n",
       "max       361.000000\n",
       "dtype: float64"
      ]
     },
     "execution_count": 371,
     "metadata": {},
     "output_type": "execute_result"
    }
   ],
   "source": [
    "#What's the distribution?\n",
    "\n",
    "meetup_kw_distr.describe()"
   ]
  },
  {
   "cell_type": "markdown",
   "metadata": {},
   "source": [
    "Very skewed  - there are 2053 topics, but most appear very few times.\n",
    "Let's see if LDA works and if not we will train the algorithm on a bigger corpus also including UK and \n",
    "UAE groups"
   ]
  },
  {
   "cell_type": "code",
   "execution_count": 372,
   "metadata": {
    "collapsed": true
   },
   "outputs": [],
   "source": [
    "#Create the LDA pipeline\n",
    "\n",
    "from gensim import corpora, models"
   ]
  },
  {
   "cell_type": "code",
   "execution_count": 373,
   "metadata": {
    "collapsed": true
   },
   "outputs": [],
   "source": [
    "class LdaPipeline():\n",
    "    '''\n",
    "    This class processes lists of keywords.\n",
    "    How does it work?\n",
    "    -It is initialised with a list where every element is a collection of keywords\n",
    "    -It has a method to filter keywords removing those that appear less than a set number of times\n",
    "    -It has a method to process the filtered df into an object that gensim can work with\n",
    "    -It has a method to train the LDA model with the right parameters\n",
    "    -It has a method to predict the topics in a corpus\n",
    "    \n",
    "    '''\n",
    "    \n",
    "    def __init__(self,corpus):\n",
    "        '''\n",
    "        Takes the list of terms\n",
    "        '''\n",
    "        \n",
    "        #Store the corpus\n",
    "        self.tokenised = corpus\n",
    "        \n",
    "    def filter(self,minimum=5):\n",
    "        '''\n",
    "        Removes keywords that appear less than 5 times.\n",
    "        \n",
    "        '''\n",
    "        \n",
    "        #Load\n",
    "        tokenised = self.tokenised\n",
    "        \n",
    "        #Count tokens\n",
    "        token_counts = pd.Series([x for el in tokenised for x in el]).value_counts()\n",
    "        \n",
    "        #Tokens to keep\n",
    "        keep = token_counts.index[token_counts>minimum]\n",
    "        \n",
    "        #Filter\n",
    "        tokenised_filtered = [[x for x in el if x in keep] for el in tokenised]\n",
    "        \n",
    "        #Store\n",
    "        self.tokenised_filtered = tokenised_filtered\n",
    "        self.empty_groups = np.sum([len(x)==0 for x in tokenised_filtered])\n",
    "        \n",
    "        return(self)\n",
    "        \n",
    "        \n",
    "    def process(self):\n",
    "        '''\n",
    "        This creates the bag of words we use in the gensim analysis\n",
    "        \n",
    "        '''\n",
    "        #Load the list of keywords\n",
    "        tokenised = self.tokenised\n",
    "        \n",
    "        #Create the dictionary\n",
    "        dictionary = corpora.Dictionary(tokenised)\n",
    "        \n",
    "        #Create the Bag of words. This converts keywords into ids\n",
    "        corpus = [dictionary.doc2bow(x) for x in tokenised]\n",
    "        \n",
    "        self.corpus = corpus\n",
    "        self.dictionary = dictionary\n",
    "        return(self)\n",
    "        \n",
    "    def tfidf(self):\n",
    "        '''\n",
    "        This is optional: We extract the term-frequency inverse document frequency of the words in\n",
    "        the corpus. The idea is to identify those keywords that are more salient in a document by normalising over\n",
    "        their frequency in the whole corpus\n",
    "        \n",
    "        '''\n",
    "        #Load the corpus\n",
    "        corpus = self.corpus\n",
    "        \n",
    "        #Fit a TFIDF model on the data\n",
    "        tfidf = models.TfidfModel(corpus)\n",
    "        \n",
    "        #Transform the corpus and save it\n",
    "        self.corpus = tfidf[corpus]\n",
    "        \n",
    "        return(self)\n",
    "    \n",
    "    def fit_lda(self,num_topics=20,passes=5,iterations=75,random_state=1803):\n",
    "        '''\n",
    "        \n",
    "        This fits the LDA model taking a set of keyword arguments.\n",
    "        #Number of passes, iterations and random state for reproducibility. We will have to consider\n",
    "        reproducibility eventually.\n",
    "        \n",
    "        '''\n",
    "        \n",
    "        #Load the corpus\n",
    "        corpus = self.corpus\n",
    "        \n",
    "        #Train the LDA model with the parameters we supplied\n",
    "        lda = models.LdaModel(corpus,id2word=self.dictionary,\n",
    "                              num_topics=num_topics,passes=passes,iterations=iterations,random_state=random_state)\n",
    "        \n",
    "        #Save the outputs\n",
    "        self.lda_model = lda\n",
    "        self.lda_topics = lda.show_topics(num_topics=num_topics)\n",
    "        \n",
    "\n",
    "        return(self)\n",
    "    \n",
    "    def predict_topics(self):\n",
    "        '''\n",
    "        This predicts the topic mix for every observation in the corpus\n",
    "        \n",
    "        '''\n",
    "        #Load the attributes we will be working with\n",
    "        lda = self.lda_model\n",
    "        corpus = self.corpus\n",
    "        \n",
    "        #Now we create a df\n",
    "        predicted = lda[corpus]\n",
    "        \n",
    "        #Convert this into a dataframe\n",
    "        predicted_df = pd.concat([pd.DataFrame({x[0]:x[1] for x in topics},\n",
    "                                              index=[num]) for num,topics in enumerate(predicted)]).fillna(0)\n",
    "        \n",
    "        self.predicted_df = predicted_df\n",
    "        \n",
    "        return(self)\n",
    "    "
   ]
  },
  {
   "cell_type": "code",
   "execution_count": 374,
   "metadata": {
    "collapsed": false
   },
   "outputs": [],
   "source": [
    "test = LdaPipeline(mex_topics_list).filter(3).process().fit_lda(\n",
    "    num_topics=100,passes=20,iterations=150).predict_topics()"
   ]
  },
  {
   "cell_type": "code",
   "execution_count": 375,
   "metadata": {
    "collapsed": false
   },
   "outputs": [],
   "source": [
    "#We extract the topic mixes to label and classify as creative or non-creative.\n",
    "#We'll do that by hand in excel\n",
    "topic_mixes = pd.DataFrame(test.lda_topics[:100])\n",
    "\n",
    "topic_mixes.columns=['topic_number','topic_mix']\n",
    "\n",
    "topic_mixes.to_csv(top+'/references/{date}_topic_mix_for_labelling_70.csv'.format(date=today_str),index=False)"
   ]
  },
  {
   "cell_type": "code",
   "execution_count": 376,
   "metadata": {
    "collapsed": false
   },
   "outputs": [],
   "source": [
    "#Load the labelled groups\n",
    "topic_mixes_labelled = pd.read_csv(top+'/references/4_2_2018_topic_mix_labelled.csv')\n",
    "\n",
    "#Change the names of those topics that are nans (ie non creative)\n",
    "\n",
    "topic_mixes_labelled['name'] = [x if type(x)==str else 'non_creative_'+str(num) for num,x in enumerate(\n",
    "    topic_mixes_labelled['name'])]\n",
    "\n",
    "\n",
    "#Rename the labelled data\n",
    "\n",
    "groups_test = test.predicted_df\n",
    "groups_test.columns = topic_mixes_labelled['name']\n",
    "\n",
    "\n",
    "#Is the right match\n",
    "\n",
    "#groups_test['name'] = [x['name'] for x in mex_groups]\n",
    "\n"
   ]
  },
  {
   "cell_type": "code",
   "execution_count": 340,
   "metadata": {
    "collapsed": false
   },
   "outputs": [
    {
     "data": {
      "text/plain": [
       "{'category_id': 34.0,\n",
       " 'category_name': 'tech',\n",
       " 'category_shortname': 'tech',\n",
       " 'city': 'México City',\n",
       " 'country': 'MX',\n",
       " 'country_name': 'Mexico',\n",
       " 'created': 1474503937000.0,\n",
       " 'description': '<p>#100SEOs es la comunidad donde hablamos de buenas prácticas SEO, white, grey, black hat SEO. Herramientas y mucho mas :D</p>',\n",
       " 'id': 20452845.0,\n",
       " 'lat': 19.43,\n",
       " 'lon': -99.14,\n",
       " 'members': 44.0,\n",
       " 'name': '100Seos',\n",
       " 'topics': [{'id': 8304, 'name': 'WordPress', 'urlkey': 'wordpress'},\n",
       "  {'id': 15585, 'name': 'Online Marketing', 'urlkey': 'online-marketing'},\n",
       "  {'id': 23199,\n",
       "   'name': 'SEO (Search Engine Optimization)',\n",
       "   'urlkey': 'seo-search-engine-optimization'},\n",
       "  {'id': 23960,\n",
       "   'name': 'SEO for Small to Medium Sized Businesses',\n",
       "   'urlkey': 'seo-for-small-to-medium-sized-businesses'},\n",
       "  {'id': 90585,\n",
       "   'name': 'SEO for Small Businesses',\n",
       "   'urlkey': 'seo-for-small-businesses'},\n",
       "  {'id': 133766, 'name': 'WordPress SEO', 'urlkey': 'wordpress-seo'},\n",
       "  {'id': 134294, 'name': 'Google SEO', 'urlkey': 'google-seo'}],\n",
       " 'urlname': '100Seos'}"
      ]
     },
     "execution_count": 340,
     "metadata": {},
     "output_type": "execute_result"
    }
   ],
   "source": [
    "mex_groups[0]"
   ]
  },
  {
   "cell_type": "markdown",
   "metadata": {},
   "source": [
    "Looking ok!"
   ]
  },
  {
   "cell_type": "markdown",
   "metadata": {},
   "source": [
    "### Now to process each lat lon into its polygon"
   ]
  },
  {
   "cell_type": "code",
   "execution_count": 290,
   "metadata": {
    "collapsed": false
   },
   "outputs": [],
   "source": [
    "from geopandas.geoseries import *\n",
    "\n",
    "def point_in_poly(point,poly):\n",
    "    '''\n",
    "    This function checks if a point is inside a polygon and returns the result\n",
    "    \n",
    "    \n",
    "    '''\n",
    "    \n",
    "    result = poly.contains(point)\n",
    "    \n",
    "    return(result)\n",
    "    "
   ]
  },
  {
   "cell_type": "code",
   "execution_count": 302,
   "metadata": {
    "collapsed": false
   },
   "outputs": [],
   "source": [
    "#This turns each meetup lat/lon into a geographical point we can search for in a polygon\n",
    "meetup_geo_points = [(x['id'],Point(x['lon'],x['lat'])) for x in mex_groups]"
   ]
  },
  {
   "cell_type": "code",
   "execution_count": 303,
   "metadata": {
    "collapsed": false
   },
   "outputs": [],
   "source": [
    "#This container stores the states\n",
    "cont = []\n",
    "\n",
    "for point in [x[1] for x in meetup_geo_points]:\n",
    "    \n",
    "    #Applies the function above\n",
    "    result = [point_in_poly(point,estados.loc[num,'geometry']) for num in np.arange(len(estados))]\n",
    "    \n",
    "    #Finds the state name that contains the point\n",
    "    try:\n",
    "        name = [x for x,y in zip(estados['ADMIN_NAME'],result) if y==True][0]\n",
    "    \n",
    "    #We had a problem with one of them\n",
    "    except:\n",
    "        name = np.nan\n",
    "    \n",
    "    #Returns all contents\n",
    "    cont.append(name)"
   ]
  },
  {
   "cell_type": "code",
   "execution_count": 306,
   "metadata": {
    "collapsed": false
   },
   "outputs": [
    {
     "data": {
      "text/plain": [
       "'Jalisco'"
      ]
     },
     "execution_count": 306,
     "metadata": {},
     "output_type": "execute_result"
    }
   ],
   "source": [
    "cont[4]"
   ]
  },
  {
   "cell_type": "code",
   "execution_count": 305,
   "metadata": {
    "collapsed": false
   },
   "outputs": [
    {
     "data": {
      "text/plain": [
       "{'category_id': 2.0,\n",
       " 'category_name': 'career/business',\n",
       " 'category_shortname': 'career-business',\n",
       " 'city': 'Guadalajara',\n",
       " 'country': 'MX',\n",
       " 'country_name': 'Mexico',\n",
       " 'created': 1494864649000.0,\n",
       " 'description': '<p><a href=\"http://www.accesssiliconvalley.net/\">Access Silicon Valley</a>&nbsp;is the&nbsp;“virtual bridge” to Silicon Valley, where&nbsp;startup entrepreneurs&nbsp;and&nbsp;serial entrepreneurs&nbsp;in real time,&nbsp;get access to&nbsp;and&nbsp;interact with, angels, VCs&nbsp;and&nbsp;great entrepreneurs&nbsp;that they&nbsp;otherwise wouldn’t get the opportunity to see, hear or possibly connect with. In addition we have put together valuable workshops to prepare startup entrepreneurs for the roller coaster ride of the startup world!! We encourage you to join us. Access Silicon Valley is an extension of the overall global vision to build “virtual bridges” between those cities that have great startup communities and Silicon Valley.&nbsp;</p>\\n<p>Access Silicon Valley began with a vision to&nbsp;provide startup founders access--access to educational and other information that every first time founder should know or be exposed to. This includes access&nbsp;to high caliber angels, VCs and “been there done that” successful, serial entrepreneurs.&nbsp;The Silicon Valley ecosystem is unique, which is why&nbsp;ASV extends beyond the geographical borders of Silicon Valley!&nbsp;</p>\\n<p>This community is&nbsp;much&nbsp;more than just a Meetup group…it’s the&nbsp;opportunity to become part of the Silicon Valley ecosystem or “mindshare”&nbsp;as&nbsp;we like to think of it.&nbsp;Stay tuned for an exciting journey as we deliver&nbsp;events and workshops that you won’t want to miss!!&nbsp;</p>\\n<p>For more information on many of our past events (and videos of these events),&nbsp;<a href=\"http://accesssiliconvalley.net/\">please visit our Access Silicon Valley website</a>.</p>\\n<p>Please take a moment to join the ASV&nbsp;Facebook community:&nbsp;<a href=\"https://www.facebook.com/AccessSiliconValley\">https://www.facebook.com/AccessSiliconValley</a></p>\\n<p>We also invite you to join us on&nbsp;Twitter:&nbsp;<a href=\"https://twitter.com/AccessSv\">https://twitter.com/AccessSv</a></p>',\n",
       " 'id': 23787260.0,\n",
       " 'lat': 20.67,\n",
       " 'lon': -103.35,\n",
       " 'members': 233.0,\n",
       " 'name': 'Access Silicon Valley (Guadalajara)',\n",
       " 'topics': [{'id': 16216,\n",
       "   'name': 'Mobile Technology',\n",
       "   'urlkey': 'mobile-technology'},\n",
       "  {'id': 19120, 'name': 'Raising Capital', 'urlkey': 'raising-capital'},\n",
       "  {'id': 19882, 'name': 'Entrepreneurship', 'urlkey': 'entrepreneurship'},\n",
       "  {'id': 20060,\n",
       "   'name': 'Entrepreneur Networking',\n",
       "   'urlkey': 'business-entrepreneur-networking'},\n",
       "  {'id': 21681, 'name': 'Startup Businesses', 'urlkey': 'startup-businesses'},\n",
       "  {'id': 22816, 'name': 'Crowdfunding', 'urlkey': 'crowdfunding'},\n",
       "  {'id': 29000, 'name': 'Angel Investors', 'urlkey': 'angel-investors'},\n",
       "  {'id': 38660, 'name': 'Lean Startup', 'urlkey': 'lean-startup'},\n",
       "  {'id': 38968, 'name': 'Venture Capital', 'urlkey': 'venture-capital'},\n",
       "  {'id': 62649, 'name': 'Seed Funding', 'urlkey': 'seed-funding'},\n",
       "  {'id': 78721, 'name': 'Startup Pitching', 'urlkey': 'startup-pitching'},\n",
       "  {'id': 99649,\n",
       "   'name': 'Startup Incubation',\n",
       "   'urlkey': 'startup-incubation-and-entrepreneurship-mentors'},\n",
       "  {'id': 108403,\n",
       "   'name': 'Technology Startups',\n",
       "   'urlkey': 'technology-startups'},\n",
       "  {'id': 128595, 'name': 'Internet Startups', 'urlkey': 'internet-startups'},\n",
       "  {'id': 153731, 'name': 'Startup Financing', 'urlkey': 'startup-financing'}],\n",
       " 'urlname': 'Access-Silicon-Valley-Guadalajara'}"
      ]
     },
     "execution_count": 305,
     "metadata": {},
     "output_type": "execute_result"
    }
   ],
   "source": [
    "mex_groups[4]"
   ]
  },
  {
   "cell_type": "code",
   "execution_count": 307,
   "metadata": {
    "collapsed": true
   },
   "outputs": [],
   "source": [
    "?models.LdaModel"
   ]
  },
  {
   "cell_type": "code",
   "execution_count": null,
   "metadata": {
    "collapsed": true
   },
   "outputs": [],
   "source": []
  }
 ],
 "metadata": {
  "kernelspec": {
   "display_name": "Python 3",
   "language": "python",
   "name": "python3"
  },
  "language_info": {
   "codemirror_mode": {
    "name": "ipython",
    "version": 3
   },
   "file_extension": ".py",
   "mimetype": "text/x-python",
   "name": "python",
   "nbconvert_exporter": "python",
   "pygments_lexer": "ipython3",
   "version": "3.5.2"
  }
 },
 "nbformat": 4,
 "nbformat_minor": 2
}
