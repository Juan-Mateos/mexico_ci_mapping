{
 "cells": [
  {
   "cell_type": "markdown",
   "metadata": {},
   "source": [
    "# DENUE Exploratory Data Analysis notebook\n",
    "\n",
    "[DENUE](http://www.beta.inegi.org.mx/app/mapa/denue/) means Directorio Estadístico Nacional de Unidades Economicas. It is maintained by [INEGI](http://www.inegi.org.mx/), the Mexican Institute of Statistics and Geography.\n",
    "\n",
    "In this notebook we start exploring the data as part of our project to map the creative industries in Mexico\n",
    "\n",
    "## About the data\n",
    "\n",
    "This [methodological note](http://www.beta.inegi.org.mx/app/biblioteca/ficha.html?upc=702825097240) describes the data (in Spanish).\n",
    "\n",
    "DENUE contains information about ~5 million active businesses in Mexico. This includes:\n",
    "\n",
    "* Identification\n",
    "* Location\n",
    "* Sector\n",
    "* Size\n",
    "\n",
    "DENUE’s first edition was published in 2010, with data collected in 2009. Individual entrepreneurs and organisations are legally required to register in DENUE and update their information. Other parts of the public sector are also required to provide INEGI with data to maintain DENUE. \n",
    "\n",
    "**Data updates**\n",
    "\n",
    "* Information about larger businesses (>20 employees / $20m in turnover or activities in more than one State) as well as those in some sectors are updated yearly with administrative data and business surveys.\n",
    "\n",
    "* Information about micro/small/medium businesses is partially updated through administrative registers.\n",
    "\n",
    "* Users update their information online continuously, and this information is quality assured by INEGI.\n",
    "\n",
    "* All data in DENUE are updated every 5 years through information produced by the economic census. The latest complete update of DENUE was in 2016, using data from the 2014 economic census.\n",
    "\n",
    "### Conceptual framework and coverage\n",
    "\n",
    "**Unit of analysis**\n",
    "\n",
    "DENUE contains information about establishments (local units) and enterprises. \n",
    "\n",
    "**Sector**\n",
    "\n",
    "DENUE contains information about all industries with the exception of agriculture, farming and forestry, transport, political organisations, domestic workers and extraterritorial units.\n",
    "\n",
    "Industrial activities are classified according to 2013 NAICS. The first edition of DENUE using 2013 NAICs was in 2015 (*this means we can probably use definitions of the creative industries implemented by Nesta in its analysis of the creative industries in North America*)\n",
    "\n",
    "**Period**\n",
    "\n",
    "The period covered by business data depends on the year of incorporation.\n",
    "  * For businesses incorporated before 2014, DENUE data refers to 2014\n",
    "  * For businesses incorporated Jan 2015- Oct 2016 - DENUE data refers to 2015\n",
    "  * For business incorporated Mar 2017-Nov 2017 - Data refers to 2016\n",
    "\n",
    "**Geography**\n",
    "\n",
    "DENUE includes economic units in locations with 2500+ inhabitants as well as ‘economic locations’ such as industrial parks. It doesn’t contain economic units in rural areas./\n",
    "\n",
    "Data are available at the following levels of resolution:\n",
    "* AGEE (States) - 2 digit based on State name. Administrative boundary\n",
    "* AGEM (towns / cities) - 3 digits.\n",
    "* AGEB (micro-geography):\n",
    "  * Urban: 1-50 squares\n",
    "  * Rural: ~11m Ha.\n",
    "\n",
    "Longitude and Latitude data are also available. \n",
    "\n",
    "### Variables\n",
    "\n",
    "* Nombre: Name. Some organisations have generic names.\n",
    "* Denominación o razón social y tipo de sociedad: Type of organisation\n",
    "* Código: industrial code based on NAICs (organisations are allocated to the sector which generates most turnover for the company)\n",
    "* Personal: 8 sizebands (0-251+)\n",
    "* Tipo de Unidad económica: \n",
    "  * Whether the organisation is a subsidiary, and the type of establishment.\n",
    "* Datos de ubicación: Location (address)\n",
    "* Area geográfica: (see above)\n",
    "* Contact details:\n",
    "  * Telephone\n",
    "  * Web address\n",
    "  * Email\n",
    "\n",
    "\n",
    "\n",
    "## Some processing activities\n",
    "\n",
    "* Load data\n",
    "* Merge with creative NAICs codes\n",
    "* Produce some descriptive analysis: creative sectors by location (totals, specialisation)\n",
    "* Analyse access to contact details\n",
    "\n",
    "\n"
   ]
  },
  {
   "cell_type": "markdown",
   "metadata": {},
   "source": [
    "## Preamble\n",
    "\n",
    "This includes:\n",
    "\n",
    "* Package imports\n",
    "* Paths\n",
    "* Functions and classes used below\n",
    "\n"
   ]
  },
  {
   "cell_type": "code",
   "execution_count": 2,
   "metadata": {
    "collapsed": true
   },
   "outputs": [],
   "source": [
    "%matplotlib inline\n",
    "\n",
    "#Key imports are loaded from my profile (see standard_imports.py in src folder).\n",
    "\n",
    "#Other imports \n",
    "\n",
    "#Zipfile to work with zips.\n",
    "import zipfile\n",
    "\n",
    "#Spacy and geopandas for spatial stuff\n",
    "import spacy\n",
    "import geopandas as gp\n",
    "\n",
    "#Paths\n",
    "\n",
    "#Paths\n",
    "top = os.path.dirname(os.getcwd())\n",
    "\n",
    "#External data\n",
    "ext_data = os.path.join(top,'data/external')\n",
    "\n",
    "#Metadata\n",
    "meta_data = os.path.join(top,'data/metadata')\n",
    "\n",
    "#Interim data\n",
    "int_data = os.path.join(top,'data/interim')\n",
    "\n",
    "#Processed data\n",
    "proc_data = os.path.join(top,'data/processed')\n",
    "\n",
    "#Figures\n",
    "fig_path = os.path.join(top,'reports/final_figures')\n",
    "\n",
    "#Tables\n",
    "tab_path = os.path.join(top,'reports/tables')\n",
    "\n",
    "#Models\n",
    "mod_path = os.path.join(top,'models')\n",
    "\n",
    "#Visualisations\n",
    "viz_path = os.path.join(top,'src/visualization')\n",
    "\n",
    "#Get date for saving files\n",
    "today = datetime.datetime.today()\n",
    "\n",
    "today_str = \"_\".join([str(x) for x in [today.day,today.month,today.year]])"
   ]
  },
  {
   "cell_type": "markdown",
   "metadata": {},
   "source": [
    "## 1. Load data\n",
    "\n",
    "Here we will process all relevant DENUE files. There are quite a few of them and they are big. To deal with this I will write a class that loads them one at a time, unzips them, extracts companies in creative sectors (based on a lookup table based on NAICS codes) and generates some sector / area reports to normalise findings.\n"
   ]
  },
  {
   "cell_type": "markdown",
   "metadata": {},
   "source": [
    "### a. Load metadata\n",
    "\n",
    "Lookup between NAICs and creative industries codes based on Nesta 2016 (see Table A10 in /references folder)\n",
    "\n",
    "Some of the codes in that table are too coarse (ie advertising also includes management consultancy). We have created a more refined classification that removes some of the non-creative subcodes, but we will generally work with Nesta's classification for consistency. It would be easy to replicate the analysis focusing on the refined categories\n"
   ]
  },
  {
   "cell_type": "code",
   "execution_count": 3,
   "metadata": {
    "collapsed": false
   },
   "outputs": [],
   "source": [
    "#Load a file with NAICs codes and info about whether they are creative or not\n",
    "naics_creative_lookup = pd.read_csv(meta_data+'/naics_sics_creative_lookup.csv')\n",
    "\n",
    "#Flag creative codes\n",
    "naics_creative_lookup['has_creative'] = [1 if x==1 or y==1 else 0 for x,y in zip(\n",
    "    naics_creative_lookup['creative_nesta_2016'],\n",
    "    naics_creative_lookup['creative_refined'])]\n",
    "\n",
    "#Focus on relevant codes\n",
    "naics_creative_lookup_short = naics_creative_lookup.loc[\n",
    "    naics_creative_lookup.has_creative==1,:].reset_index(drop=True)\n",
    "\n",
    "#Turn codes into ints\n",
    "naics_creative_lookup_short['code_int'] =[int(x) for x in naics_creative_lookup_short.code_es]"
   ]
  },
  {
   "cell_type": "markdown",
   "metadata": {},
   "source": [
    "Load shapefiles for mapping. We downloaded them from [here](http://www.inegi.org.mx/geo/contenidos/geoestadistica/m_geoestadistico.aspx)."
   ]
  },
  {
   "cell_type": "code",
   "execution_count": 4,
   "metadata": {
    "collapsed": false
   },
   "outputs": [
    {
     "data": {
      "text/html": [
       "<div>\n",
       "<style scoped>\n",
       "    .dataframe tbody tr th:only-of-type {\n",
       "        vertical-align: middle;\n",
       "    }\n",
       "\n",
       "    .dataframe tbody tr th {\n",
       "        vertical-align: top;\n",
       "    }\n",
       "\n",
       "    .dataframe thead th {\n",
       "        text-align: right;\n",
       "    }\n",
       "</style>\n",
       "<table border=\"1\" class=\"dataframe\">\n",
       "  <thead>\n",
       "    <tr style=\"text-align: right;\">\n",
       "      <th></th>\n",
       "      <th>CVE_ENT</th>\n",
       "      <th>NOM_ENT</th>\n",
       "      <th>geometry</th>\n",
       "    </tr>\n",
       "  </thead>\n",
       "  <tbody>\n",
       "    <tr>\n",
       "      <th>0</th>\n",
       "      <td>01</td>\n",
       "      <td>Aguascalientes</td>\n",
       "      <td>POLYGON ((2470517.824301003 1155028.588319506,...</td>\n",
       "    </tr>\n",
       "    <tr>\n",
       "      <th>1</th>\n",
       "      <td>02</td>\n",
       "      <td>Baja California</td>\n",
       "      <td>(POLYGON ((1073966.633401998 2349614.872239001...</td>\n",
       "    </tr>\n",
       "    <tr>\n",
       "      <th>2</th>\n",
       "      <td>03</td>\n",
       "      <td>Baja California Sur</td>\n",
       "      <td>(POLYGON ((1694656.344386794 1227647.637368001...</td>\n",
       "    </tr>\n",
       "    <tr>\n",
       "      <th>3</th>\n",
       "      <td>04</td>\n",
       "      <td>Campeche</td>\n",
       "      <td>(POLYGON ((3702830.927301012 1030965.603919527...</td>\n",
       "    </tr>\n",
       "    <tr>\n",
       "      <th>4</th>\n",
       "      <td>05</td>\n",
       "      <td>Coahuila de Zaragoza</td>\n",
       "      <td>POLYGON ((2469954.193002 1978522.993039001, 24...</td>\n",
       "    </tr>\n",
       "  </tbody>\n",
       "</table>\n",
       "</div>"
      ],
      "text/plain": [
       "  CVE_ENT               NOM_ENT  \\\n",
       "0      01        Aguascalientes   \n",
       "1      02       Baja California   \n",
       "2      03   Baja California Sur   \n",
       "3      04              Campeche   \n",
       "4      05  Coahuila de Zaragoza   \n",
       "\n",
       "                                            geometry  \n",
       "0  POLYGON ((2470517.824301003 1155028.588319506,...  \n",
       "1  (POLYGON ((1073966.633401998 2349614.872239001...  \n",
       "2  (POLYGON ((1694656.344386794 1227647.637368001...  \n",
       "3  (POLYGON ((3702830.927301012 1030965.603919527...  \n",
       "4  POLYGON ((2469954.193002 1978522.993039001, 24...  "
      ]
     },
     "execution_count": 4,
     "metadata": {},
     "output_type": "execute_result"
    }
   ],
   "source": [
    "estados = gp.read_file(meta_data+'/inegi_shapefile/conjunto_de_datos/areas_geoestadisticas_estatales.shp')\n",
    "\n",
    "#They were easy to load. We can use them below\n",
    "estados.head()"
   ]
  },
  {
   "cell_type": "code",
   "execution_count": 5,
   "metadata": {
    "collapsed": false
   },
   "outputs": [
    {
     "data": {
      "text/plain": [
       "<matplotlib.axes._subplots.AxesSubplot at 0x11b6e92e8>"
      ]
     },
     "execution_count": 5,
     "metadata": {},
     "output_type": "execute_result"
    },
    {
     "data": {
      "image/png": "[encoded data removed]",
      "text/plain": [
       "<matplotlib.figure.Figure at 0x1166199e8>"
      ]
     },
     "metadata": {},
     "output_type": "display_data"
    }
   ],
   "source": [
    "estados.plot()"
   ]
  },
  {
   "cell_type": "markdown",
   "metadata": {},
   "source": [
    "### b. Load one file for exploration"
   ]
  },
  {
   "cell_type": "code",
   "execution_count": 6,
   "metadata": {
    "collapsed": false
   },
   "outputs": [
    {
     "name": "stdout",
     "output_type": "stream",
     "text": [
      "[<ZipInfo filename='denue_00_51_csv/conjunto_de_datos/' external_attr=0x10>, <ZipInfo filename='denue_00_51_csv/conjunto_de_datos/denue_inegi_51_.csv' compress_type=deflate external_attr=0x20 file_size=8850882 compress_size=1894091>, <ZipInfo filename='denue_00_51_csv/diccionario_de_datos/' external_attr=0x10>, <ZipInfo filename='denue_00_51_csv/diccionario_de_datos/denue_diccionario_de_datos.csv' compress_type=deflate external_attr=0x20 file_size=9807 compress_size=3354>, <ZipInfo filename='denue_00_51_csv/metadatos/' external_attr=0x10>, <ZipInfo filename='denue_00_51_csv/metadatos/metadatos_denue.txt' compress_type=deflate external_attr=0x20 file_size=1987 compress_size=1055>]\n"
     ]
    }
   ],
   "source": [
    "#This creates the file. We will load one that has creative sectors in it\n",
    "zf = zipfile.ZipFile(ext_data+'/sector_data/Actividad_económica.51_Información_en_medios_masivos.csv.zip')\n",
    "\n",
    "#Extract the names\n",
    "zf_names = zf.infolist()\n",
    "\n",
    "print(zf_names)"
   ]
  },
  {
   "cell_type": "markdown",
   "metadata": {},
   "source": [
    "#### Load the data dictionary"
   ]
  },
  {
   "cell_type": "code",
   "execution_count": 7,
   "metadata": {
    "collapsed": false
   },
   "outputs": [],
   "source": [
    "#Denue data dictionary\n",
    "\n",
    "#This gets the filename for the data dictionary\n",
    "data_dict_filename = zf_names[3].filename\n",
    "\n",
    "#And we read it\n",
    "denue_dictionary = pd.read_csv(zf.open(data_dict_filename))\n",
    "\n",
    "#We save it so we can have a look at it, and maybe create cleaner names and variables\n",
    "denue_dictionary.to_csv(meta_data+'/{date}_denue_data_dictionary.csv'.format(date=today_str))\n"
   ]
  },
  {
   "cell_type": "markdown",
   "metadata": {},
   "source": [
    "#### Load the data"
   ]
  },
  {
   "cell_type": "code",
   "execution_count": 8,
   "metadata": {
    "collapsed": true
   },
   "outputs": [],
   "source": [
    "#We are interested in the 'denue_inegi_51_.csv' file, index=1\n",
    "denue_data = zf_names[1]\n",
    "\n",
    "#We get its name (which we will use to open the data)\n",
    "denue_file_name = denue_data.filename"
   ]
  },
  {
   "cell_type": "code",
   "execution_count": 10,
   "metadata": {
    "collapsed": false
   },
   "outputs": [
    {
     "name": "stderr",
     "output_type": "stream",
     "text": [
      "/usr/local/lib/python3.5/site-packages/IPython/core/interactiveshell.py:2717: DtypeWarning: Columns (14,18) have mixed types. Specify dtype option on import or set low_memory=False.\n",
      "  interactivity=interactivity, compiler=compiler, result=result)\n"
     ]
    }
   ],
   "source": [
    "#Pandas can read this easily\n",
    "denue_51 = pd.read_csv(zf.open(denue_file_name))"
   ]
  },
  {
   "cell_type": "code",
   "execution_count": 11,
   "metadata": {
    "collapsed": false
   },
   "outputs": [
    {
     "data": {
      "text/html": [
       "<div>\n",
       "<style scoped>\n",
       "    .dataframe tbody tr th:only-of-type {\n",
       "        vertical-align: middle;\n",
       "    }\n",
       "\n",
       "    .dataframe tbody tr th {\n",
       "        vertical-align: top;\n",
       "    }\n",
       "\n",
       "    .dataframe thead th {\n",
       "        text-align: right;\n",
       "    }\n",
       "</style>\n",
       "<table border=\"1\" class=\"dataframe\">\n",
       "  <thead>\n",
       "    <tr style=\"text-align: right;\">\n",
       "      <th></th>\n",
       "      <th>id</th>\n",
       "      <th>nom_estab</th>\n",
       "      <th>raz_social</th>\n",
       "      <th>codigo_act</th>\n",
       "      <th>nombre_act</th>\n",
       "      <th>per_ocu</th>\n",
       "      <th>tipo_vial</th>\n",
       "      <th>nom_vial</th>\n",
       "      <th>tipo_v_e_1</th>\n",
       "      <th>nom_v_e_1</th>\n",
       "      <th>...</th>\n",
       "      <th>localidad</th>\n",
       "      <th>ageb</th>\n",
       "      <th>manzana</th>\n",
       "      <th>telefono</th>\n",
       "      <th>correoelec</th>\n",
       "      <th>www</th>\n",
       "      <th>tipoUniEco</th>\n",
       "      <th>latitud</th>\n",
       "      <th>longitud</th>\n",
       "      <th>fecha_alta</th>\n",
       "    </tr>\n",
       "  </thead>\n",
       "  <tbody>\n",
       "    <tr>\n",
       "      <th>0</th>\n",
       "      <td>17294</td>\n",
       "      <td>ALESTRA, S. DE R.L. DE C.V.</td>\n",
       "      <td>ALESTRA, S. DE R.L. DE C.V.</td>\n",
       "      <td>517110</td>\n",
       "      <td>Operadores de servicios de telecomunicaciones ...</td>\n",
       "      <td>0 a 5 personas</td>\n",
       "      <td>AVENIDA</td>\n",
       "      <td>UNIVERSIDAD</td>\n",
       "      <td>AVENIDA</td>\n",
       "      <td>AGUASCALIENTES NORTE</td>\n",
       "      <td>...</td>\n",
       "      <td>Aguascalientes</td>\n",
       "      <td>2259</td>\n",
       "      <td>19</td>\n",
       "      <td>4.499228e+09</td>\n",
       "      <td>MPAVON@ALESTRA.COM.MX</td>\n",
       "      <td>WWW.ALESTRA.COM.MX</td>\n",
       "      <td>Fijo</td>\n",
       "      <td>21.916712</td>\n",
       "      <td>-102.313562</td>\n",
       "      <td>MARZO 2011</td>\n",
       "    </tr>\n",
       "    <tr>\n",
       "      <th>1</th>\n",
       "      <td>42915</td>\n",
       "      <td>ALMACÉN DISH</td>\n",
       "      <td>COMERCIALIZADORA DE FRECUENCIAS SATELITALES, S...</td>\n",
       "      <td>517910</td>\n",
       "      <td>Otros servicios de telecomunicaciones</td>\n",
       "      <td>51 a 100 personas</td>\n",
       "      <td>BOULEVARD</td>\n",
       "      <td>LICENCIADO MIGUEL DE LA MADRID</td>\n",
       "      <td>CALLE</td>\n",
       "      <td>LOS NARANJOS</td>\n",
       "      <td>...</td>\n",
       "      <td>Corral de Barrancos</td>\n",
       "      <td>043A</td>\n",
       "      <td>31</td>\n",
       "      <td>4.499943e+09</td>\n",
       "      <td>NaN</td>\n",
       "      <td>WWW.DISH.COM.MX</td>\n",
       "      <td>Fijo</td>\n",
       "      <td>21.949974</td>\n",
       "      <td>-102.332994</td>\n",
       "      <td>DICIEMBRE 2014</td>\n",
       "    </tr>\n",
       "    <tr>\n",
       "      <th>2</th>\n",
       "      <td>6506350</td>\n",
       "      <td>ALTARIA AGUASCALIENTES</td>\n",
       "      <td>GRUPO IUSACELL, S.A. DE C.V.</td>\n",
       "      <td>517210</td>\n",
       "      <td>Operadores de servicios de telecomunicaciones ...</td>\n",
       "      <td>6 a 10 personas</td>\n",
       "      <td>CALLE</td>\n",
       "      <td>NINGUNO</td>\n",
       "      <td>NINGUNO</td>\n",
       "      <td>NINGUNO</td>\n",
       "      <td>...</td>\n",
       "      <td>Aguascalientes</td>\n",
       "      <td>1320</td>\n",
       "      <td>66</td>\n",
       "      <td>NaN</td>\n",
       "      <td>NaN</td>\n",
       "      <td>WWW.ATT.COM.MX</td>\n",
       "      <td>Fijo</td>\n",
       "      <td>21.925536</td>\n",
       "      <td>-102.289215</td>\n",
       "      <td>ENERO 2016</td>\n",
       "    </tr>\n",
       "    <tr>\n",
       "      <th>3</th>\n",
       "      <td>15779</td>\n",
       "      <td>ANIMACTIVA</td>\n",
       "      <td>NaN</td>\n",
       "      <td>511210</td>\n",
       "      <td>Edición de software y edición de software inte...</td>\n",
       "      <td>11 a 30 personas</td>\n",
       "      <td>CIRCUITO</td>\n",
       "      <td>HORTALIZAS</td>\n",
       "      <td>CALLE</td>\n",
       "      <td>FELIPE SERRANO</td>\n",
       "      <td>...</td>\n",
       "      <td>Aguascalientes</td>\n",
       "      <td>3098</td>\n",
       "      <td>7</td>\n",
       "      <td>4.491399e+09</td>\n",
       "      <td>cesar@animactiva.mx</td>\n",
       "      <td>www.animactiva.mx</td>\n",
       "      <td>Fijo</td>\n",
       "      <td>21.923799</td>\n",
       "      <td>-102.268272</td>\n",
       "      <td>JULIO 2010</td>\n",
       "    </tr>\n",
       "    <tr>\n",
       "      <th>4</th>\n",
       "      <td>20508</td>\n",
       "      <td>ARCHIVO GENERAL MUNICIPAL</td>\n",
       "      <td>PRESIDENCIA MUNICIPAL</td>\n",
       "      <td>519122</td>\n",
       "      <td>Bibliotecas y archivos del sector público</td>\n",
       "      <td>11 a 30 personas</td>\n",
       "      <td>CALLE</td>\n",
       "      <td>JUAN DE MONTORO</td>\n",
       "      <td>CALLE</td>\n",
       "      <td>JOSÉ MARÍA MORELOS Y PAVÓN</td>\n",
       "      <td>...</td>\n",
       "      <td>Aguascalientes</td>\n",
       "      <td>0638</td>\n",
       "      <td>6</td>\n",
       "      <td>4.499159e+09</td>\n",
       "      <td>MUNICIPAL@AGS.GOB.MX</td>\n",
       "      <td>WWW.AGS.GOB.MX/ARCHIVO</td>\n",
       "      <td>Fijo</td>\n",
       "      <td>21.881122</td>\n",
       "      <td>-102.293654</td>\n",
       "      <td>JULIO 2010</td>\n",
       "    </tr>\n",
       "  </tbody>\n",
       "</table>\n",
       "<p>5 rows × 41 columns</p>\n",
       "</div>"
      ],
      "text/plain": [
       "        id                    nom_estab  \\\n",
       "0    17294  ALESTRA, S. DE R.L. DE C.V.   \n",
       "1    42915                 ALMACÉN DISH   \n",
       "2  6506350       ALTARIA AGUASCALIENTES   \n",
       "3    15779                   ANIMACTIVA   \n",
       "4    20508    ARCHIVO GENERAL MUNICIPAL   \n",
       "\n",
       "                                          raz_social  codigo_act  \\\n",
       "0                        ALESTRA, S. DE R.L. DE C.V.      517110   \n",
       "1  COMERCIALIZADORA DE FRECUENCIAS SATELITALES, S...      517910   \n",
       "2                       GRUPO IUSACELL, S.A. DE C.V.      517210   \n",
       "3                                                NaN      511210   \n",
       "4                              PRESIDENCIA MUNICIPAL      519122   \n",
       "\n",
       "                                          nombre_act            per_ocu  \\\n",
       "0  Operadores de servicios de telecomunicaciones ...     0 a 5 personas   \n",
       "1              Otros servicios de telecomunicaciones  51 a 100 personas   \n",
       "2  Operadores de servicios de telecomunicaciones ...    6 a 10 personas   \n",
       "3  Edición de software y edición de software inte...   11 a 30 personas   \n",
       "4          Bibliotecas y archivos del sector público   11 a 30 personas   \n",
       "\n",
       "   tipo_vial                        nom_vial tipo_v_e_1  \\\n",
       "0    AVENIDA                     UNIVERSIDAD    AVENIDA   \n",
       "1  BOULEVARD  LICENCIADO MIGUEL DE LA MADRID      CALLE   \n",
       "2      CALLE                         NINGUNO    NINGUNO   \n",
       "3   CIRCUITO                      HORTALIZAS      CALLE   \n",
       "4      CALLE                 JUAN DE MONTORO      CALLE   \n",
       "\n",
       "                    nom_v_e_1       ...                  localidad  ageb  \\\n",
       "0        AGUASCALIENTES NORTE       ...             Aguascalientes  2259   \n",
       "1                LOS NARANJOS       ...        Corral de Barrancos  043A   \n",
       "2                     NINGUNO       ...             Aguascalientes  1320   \n",
       "3              FELIPE SERRANO       ...             Aguascalientes  3098   \n",
       "4  JOSÉ MARÍA MORELOS Y PAVÓN       ...             Aguascalientes  0638   \n",
       "\n",
       "  manzana      telefono             correoelec                     www  \\\n",
       "0      19  4.499228e+09  MPAVON@ALESTRA.COM.MX      WWW.ALESTRA.COM.MX   \n",
       "1      31  4.499943e+09                    NaN         WWW.DISH.COM.MX   \n",
       "2      66           NaN                    NaN          WWW.ATT.COM.MX   \n",
       "3       7  4.491399e+09    cesar@animactiva.mx       www.animactiva.mx   \n",
       "4       6  4.499159e+09   MUNICIPAL@AGS.GOB.MX  WWW.AGS.GOB.MX/ARCHIVO   \n",
       "\n",
       "  tipoUniEco    latitud    longitud      fecha_alta  \n",
       "0       Fijo  21.916712 -102.313562      MARZO 2011  \n",
       "1       Fijo  21.949974 -102.332994  DICIEMBRE 2014  \n",
       "2       Fijo  21.925536 -102.289215      ENERO 2016  \n",
       "3       Fijo  21.923799 -102.268272      JULIO 2010  \n",
       "4       Fijo  21.881122 -102.293654      JULIO 2010  \n",
       "\n",
       "[5 rows x 41 columns]"
      ]
     },
     "execution_count": 11,
     "metadata": {},
     "output_type": "execute_result"
    }
   ],
   "source": [
    "#Here it is\n",
    "denue_51.head()"
   ]
  },
  {
   "cell_type": "code",
   "execution_count": 12,
   "metadata": {
    "collapsed": false
   },
   "outputs": [
    {
     "data": {
      "text/plain": [
       "(19919, 41)"
      ]
     },
     "execution_count": 12,
     "metadata": {},
     "output_type": "execute_result"
    }
   ],
   "source": [
    "#It contains 19K obsrrvations and 41 variables\n",
    "denue_51.shape"
   ]
  },
  {
   "cell_type": "code",
   "execution_count": 13,
   "metadata": {
    "collapsed": false
   },
   "outputs": [
    {
     "data": {
      "text/plain": [
       "Otros servicios de telecomunicaciones                                                 4518\n",
       "Bibliotecas y archivos del sector público                                             4490\n",
       "Operadores de servicios de telecomunicaciones alámbricas                              4082\n",
       "Transmisión de programas de radio                                                     1241\n",
       "Operadores de servicios de telecomunicaciones inalámbricas                             968\n",
       "Exhibición de películas y otros materiales audiovisuales                               915\n",
       "Edición de periódicos integrada con la impresión                                       727\n",
       "Transmisión de programas de televisión                                                 396\n",
       "Procesamiento electrónico de información, hospedaje y otros servicios relacionados     370\n",
       "Edición de revistas y otras publicaciones periódicas                                   246\n",
       "Name: nombre_act, dtype: int64"
      ]
     },
     "execution_count": 13,
     "metadata": {},
     "output_type": "execute_result"
    }
   ],
   "source": [
    "#These are the top 10 sectors\n",
    "denue_51.nombre_act.value_counts()[:10]"
   ]
  },
  {
   "cell_type": "code",
   "execution_count": 14,
   "metadata": {
    "collapsed": false
   },
   "outputs": [
    {
     "data": {
      "text/plain": [
       "[512130, 511111, 511112, 515210, 511121]"
      ]
     },
     "execution_count": 14,
     "metadata": {},
     "output_type": "execute_result"
    }
   ],
   "source": [
    "#What do the sector codes look like? Can we find them in the NAICs lookups\n",
    "\n",
    "list(set(denue_51.codigo_act))[:5]"
   ]
  },
  {
   "cell_type": "markdown",
   "metadata": {},
   "source": [
    "They have 7 digits"
   ]
  },
  {
   "cell_type": "code",
   "execution_count": 15,
   "metadata": {
    "collapsed": false
   },
   "outputs": [],
   "source": [
    "#Check lookup. We do this by dropping duplicate codes in the data\n",
    "code_name_lu = denue_51[['codigo_act','nombre_act']].drop_duplicates('codigo_act').reset_index(drop=True)\n",
    "\n",
    "#We have compared the codes in the data with the codes in the NAICs file and they match.\n",
    "#We will work with the NAICs file, enriched with the codes from Nesta (2016) report"
   ]
  },
  {
   "cell_type": "markdown",
   "metadata": {},
   "source": [
    "### Merge DENUE and lookup"
   ]
  },
  {
   "cell_type": "code",
   "execution_count": 16,
   "metadata": {
    "collapsed": false
   },
   "outputs": [
    {
     "data": {
      "text/html": [
       "<div>\n",
       "<style scoped>\n",
       "    .dataframe tbody tr th:only-of-type {\n",
       "        vertical-align: middle;\n",
       "    }\n",
       "\n",
       "    .dataframe tbody tr th {\n",
       "        vertical-align: top;\n",
       "    }\n",
       "\n",
       "    .dataframe thead th {\n",
       "        text-align: right;\n",
       "    }\n",
       "</style>\n",
       "<table border=\"1\" class=\"dataframe\">\n",
       "  <thead>\n",
       "    <tr style=\"text-align: right;\">\n",
       "      <th></th>\n",
       "      <th>id</th>\n",
       "      <th>nom_estab</th>\n",
       "      <th>raz_social</th>\n",
       "      <th>codigo_act</th>\n",
       "      <th>nombre_act</th>\n",
       "      <th>per_ocu</th>\n",
       "      <th>tipo_vial</th>\n",
       "      <th>nom_vial</th>\n",
       "      <th>tipo_v_e_1</th>\n",
       "      <th>nom_v_e_1</th>\n",
       "      <th>...</th>\n",
       "      <th>fecha_alta</th>\n",
       "      <th>code_en</th>\n",
       "      <th>sector_spanish</th>\n",
       "      <th>code_es</th>\n",
       "      <th>sector_english</th>\n",
       "      <th>creative_nesta_2016</th>\n",
       "      <th>creative_refined</th>\n",
       "      <th>creative_sector</th>\n",
       "      <th>has_creative</th>\n",
       "      <th>code_int</th>\n",
       "    </tr>\n",
       "  </thead>\n",
       "  <tbody>\n",
       "    <tr>\n",
       "      <th>3</th>\n",
       "      <td>15779</td>\n",
       "      <td>ANIMACTIVA</td>\n",
       "      <td>NaN</td>\n",
       "      <td>511210</td>\n",
       "      <td>Edición de software y edición de software inte...</td>\n",
       "      <td>11 a 30 personas</td>\n",
       "      <td>CIRCUITO</td>\n",
       "      <td>HORTALIZAS</td>\n",
       "      <td>CALLE</td>\n",
       "      <td>FELIPE SERRANO</td>\n",
       "      <td>...</td>\n",
       "      <td>JULIO 2010</td>\n",
       "      <td>511210</td>\n",
       "      <td>Edición de software y edición de software inte...</td>\n",
       "      <td>511210</td>\n",
       "      <td>Software publishing, and integrated software p...</td>\n",
       "      <td>1.0</td>\n",
       "      <td>1.0</td>\n",
       "      <td>software</td>\n",
       "      <td>1.0</td>\n",
       "      <td>511210.0</td>\n",
       "    </tr>\n",
       "    <tr>\n",
       "      <th>59</th>\n",
       "      <td>39380</td>\n",
       "      <td>DIVERZA</td>\n",
       "      <td>DIVERZA INFORMACIÓN Y ANÁLISIS, S.A.P.I. DE C....</td>\n",
       "      <td>518210</td>\n",
       "      <td>Procesamiento electrónico de información, hosp...</td>\n",
       "      <td>6 a 10 personas</td>\n",
       "      <td>AVENIDA</td>\n",
       "      <td>AGUASCALIENTES NORTE</td>\n",
       "      <td>PROLONGACIÓN</td>\n",
       "      <td>GENERAL IGNACIO ZARAGOZA</td>\n",
       "      <td>...</td>\n",
       "      <td>DICIEMBRE 2014</td>\n",
       "      <td>518210</td>\n",
       "      <td>Procesamiento electrónico de información, hosp...</td>\n",
       "      <td>518210</td>\n",
       "      <td>Electronic data processing, hosting, and other...</td>\n",
       "      <td>1.0</td>\n",
       "      <td>1.0</td>\n",
       "      <td>software</td>\n",
       "      <td>1.0</td>\n",
       "      <td>518210.0</td>\n",
       "    </tr>\n",
       "    <tr>\n",
       "      <th>70</th>\n",
       "      <td>39206</td>\n",
       "      <td>FACTURACIÓN DIGITAL</td>\n",
       "      <td>FACTURACIÓN DIGITAL, S.A. DE C.V.</td>\n",
       "      <td>518210</td>\n",
       "      <td>Procesamiento electrónico de información, hosp...</td>\n",
       "      <td>6 a 10 personas</td>\n",
       "      <td>CALLE</td>\n",
       "      <td>PICO DE ORIZABA</td>\n",
       "      <td>CALLE</td>\n",
       "      <td>CORDILLERA DE LOS ALPES ORIENTE</td>\n",
       "      <td>...</td>\n",
       "      <td>DICIEMBRE 2014</td>\n",
       "      <td>518210</td>\n",
       "      <td>Procesamiento electrónico de información, hosp...</td>\n",
       "      <td>518210</td>\n",
       "      <td>Electronic data processing, hosting, and other...</td>\n",
       "      <td>1.0</td>\n",
       "      <td>1.0</td>\n",
       "      <td>software</td>\n",
       "      <td>1.0</td>\n",
       "      <td>518210.0</td>\n",
       "    </tr>\n",
       "    <tr>\n",
       "      <th>71</th>\n",
       "      <td>35838</td>\n",
       "      <td>FACTURACIÓN ELÉCTRONICA SIN NOMBRE</td>\n",
       "      <td>NaN</td>\n",
       "      <td>518210</td>\n",
       "      <td>Procesamiento electrónico de información, hosp...</td>\n",
       "      <td>0 a 5 personas</td>\n",
       "      <td>CALLE</td>\n",
       "      <td>FRAY BARTOLOMÉ DE LAS CASAS</td>\n",
       "      <td>CALLE</td>\n",
       "      <td>ARQUITECTO J. REFUGIO REYES</td>\n",
       "      <td>...</td>\n",
       "      <td>DICIEMBRE 2014</td>\n",
       "      <td>518210</td>\n",
       "      <td>Procesamiento electrónico de información, hosp...</td>\n",
       "      <td>518210</td>\n",
       "      <td>Electronic data processing, hosting, and other...</td>\n",
       "      <td>1.0</td>\n",
       "      <td>1.0</td>\n",
       "      <td>software</td>\n",
       "      <td>1.0</td>\n",
       "      <td>518210.0</td>\n",
       "    </tr>\n",
       "    <tr>\n",
       "      <th>72</th>\n",
       "      <td>6765767</td>\n",
       "      <td>FACTURANET</td>\n",
       "      <td>FACTURANET SA DE CV</td>\n",
       "      <td>518210</td>\n",
       "      <td>Procesamiento electrónico de información, hosp...</td>\n",
       "      <td>11 a 30 personas</td>\n",
       "      <td>AVENIDA</td>\n",
       "      <td>CONVENCIÓN DE 1914 NORTE</td>\n",
       "      <td>CALLE</td>\n",
       "      <td>20 DE NOVIEMBRE</td>\n",
       "      <td>...</td>\n",
       "      <td>OCTUBRE 2016</td>\n",
       "      <td>518210</td>\n",
       "      <td>Procesamiento electrónico de información, hosp...</td>\n",
       "      <td>518210</td>\n",
       "      <td>Electronic data processing, hosting, and other...</td>\n",
       "      <td>1.0</td>\n",
       "      <td>1.0</td>\n",
       "      <td>software</td>\n",
       "      <td>1.0</td>\n",
       "      <td>518210.0</td>\n",
       "    </tr>\n",
       "  </tbody>\n",
       "</table>\n",
       "<p>5 rows × 50 columns</p>\n",
       "</div>"
      ],
      "text/plain": [
       "         id                           nom_estab  \\\n",
       "3     15779                          ANIMACTIVA   \n",
       "59    39380                             DIVERZA   \n",
       "70    39206                 FACTURACIÓN DIGITAL   \n",
       "71    35838  FACTURACIÓN ELÉCTRONICA SIN NOMBRE   \n",
       "72  6765767                          FACTURANET   \n",
       "\n",
       "                                           raz_social  codigo_act  \\\n",
       "3                                                 NaN      511210   \n",
       "59  DIVERZA INFORMACIÓN Y ANÁLISIS, S.A.P.I. DE C....      518210   \n",
       "70                  FACTURACIÓN DIGITAL, S.A. DE C.V.      518210   \n",
       "71                                                NaN      518210   \n",
       "72                                FACTURANET SA DE CV      518210   \n",
       "\n",
       "                                           nombre_act           per_ocu  \\\n",
       "3   Edición de software y edición de software inte...  11 a 30 personas   \n",
       "59  Procesamiento electrónico de información, hosp...   6 a 10 personas   \n",
       "70  Procesamiento electrónico de información, hosp...   6 a 10 personas   \n",
       "71  Procesamiento electrónico de información, hosp...    0 a 5 personas   \n",
       "72  Procesamiento electrónico de información, hosp...  11 a 30 personas   \n",
       "\n",
       "   tipo_vial                     nom_vial    tipo_v_e_1  \\\n",
       "3   CIRCUITO                   HORTALIZAS         CALLE   \n",
       "59   AVENIDA         AGUASCALIENTES NORTE  PROLONGACIÓN   \n",
       "70     CALLE              PICO DE ORIZABA         CALLE   \n",
       "71     CALLE  FRAY BARTOLOMÉ DE LAS CASAS         CALLE   \n",
       "72   AVENIDA     CONVENCIÓN DE 1914 NORTE         CALLE   \n",
       "\n",
       "                          nom_v_e_1    ...         fecha_alta code_en  \\\n",
       "3                    FELIPE SERRANO    ...         JULIO 2010  511210   \n",
       "59         GENERAL IGNACIO ZARAGOZA    ...     DICIEMBRE 2014  518210   \n",
       "70  CORDILLERA DE LOS ALPES ORIENTE    ...     DICIEMBRE 2014  518210   \n",
       "71      ARQUITECTO J. REFUGIO REYES    ...     DICIEMBRE 2014  518210   \n",
       "72                  20 DE NOVIEMBRE    ...       OCTUBRE 2016  518210   \n",
       "\n",
       "                                       sector_spanish code_es  \\\n",
       "3   Edición de software y edición de software inte...  511210   \n",
       "59  Procesamiento electrónico de información, hosp...  518210   \n",
       "70  Procesamiento electrónico de información, hosp...  518210   \n",
       "71  Procesamiento electrónico de información, hosp...  518210   \n",
       "72  Procesamiento electrónico de información, hosp...  518210   \n",
       "\n",
       "                                       sector_english creative_nesta_2016  \\\n",
       "3   Software publishing, and integrated software p...                 1.0   \n",
       "59  Electronic data processing, hosting, and other...                 1.0   \n",
       "70  Electronic data processing, hosting, and other...                 1.0   \n",
       "71  Electronic data processing, hosting, and other...                 1.0   \n",
       "72  Electronic data processing, hosting, and other...                 1.0   \n",
       "\n",
       "   creative_refined creative_sector has_creative  code_int  \n",
       "3               1.0        software          1.0  511210.0  \n",
       "59              1.0        software          1.0  518210.0  \n",
       "70              1.0        software          1.0  518210.0  \n",
       "71              1.0        software          1.0  518210.0  \n",
       "72              1.0        software          1.0  518210.0  \n",
       "\n",
       "[5 rows x 50 columns]"
      ]
     },
     "execution_count": 16,
     "metadata": {},
     "output_type": "execute_result"
    }
   ],
   "source": [
    "#Let's match this with the metadata to see what we get\n",
    "denue_51_creative = pd.merge(denue_51,naics_creative_lookup_short,left_on='codigo_act',\n",
    "                            right_on='code_int',how='left')\n",
    "\n",
    "#Look at software companies\n",
    "denue_51_creative.loc[denue_51_creative.creative_sector=='software',:].head()"
   ]
  },
  {
   "cell_type": "code",
   "execution_count": 17,
   "metadata": {
    "collapsed": false
   },
   "outputs": [
    {
     "data": {
      "text/plain": [
       "libraries_museums        4718\n",
       "film_radio_tv            3066\n",
       "publishing               1736\n",
       "software                  449\n",
       "music_performing_arts     158\n",
       "Name: creative_sector, dtype: int64"
      ]
     },
     "execution_count": 17,
     "metadata": {},
     "output_type": "execute_result"
    }
   ],
   "source": [
    "#Creative sectors in the data\n",
    "denue_51_creative.creative_sector.value_counts()"
   ]
  },
  {
   "cell_type": "code",
   "execution_count": 18,
   "metadata": {
    "collapsed": false
   },
   "outputs": [
    {
     "data": {
      "text/html": [
       "<div>\n",
       "<style scoped>\n",
       "    .dataframe tbody tr th:only-of-type {\n",
       "        vertical-align: middle;\n",
       "    }\n",
       "\n",
       "    .dataframe tbody tr th {\n",
       "        vertical-align: top;\n",
       "    }\n",
       "\n",
       "    .dataframe thead th {\n",
       "        text-align: right;\n",
       "    }\n",
       "</style>\n",
       "<table border=\"1\" class=\"dataframe\">\n",
       "  <thead>\n",
       "    <tr style=\"text-align: right;\">\n",
       "      <th>creative_sector</th>\n",
       "      <th>film_radio_tv</th>\n",
       "      <th>libraries_museums</th>\n",
       "      <th>music_performing_arts</th>\n",
       "      <th>publishing</th>\n",
       "      <th>software</th>\n",
       "    </tr>\n",
       "    <tr>\n",
       "      <th>per_ocu</th>\n",
       "      <th></th>\n",
       "      <th></th>\n",
       "      <th></th>\n",
       "      <th></th>\n",
       "      <th></th>\n",
       "    </tr>\n",
       "  </thead>\n",
       "  <tbody>\n",
       "    <tr>\n",
       "      <th>0 a 5 personas</th>\n",
       "      <td>1226</td>\n",
       "      <td>3975</td>\n",
       "      <td>117</td>\n",
       "      <td>910</td>\n",
       "      <td>236</td>\n",
       "    </tr>\n",
       "    <tr>\n",
       "      <th>101 a 250 personas</th>\n",
       "      <td>66</td>\n",
       "      <td>4</td>\n",
       "      <td>0</td>\n",
       "      <td>83</td>\n",
       "      <td>22</td>\n",
       "    </tr>\n",
       "    <tr>\n",
       "      <th>11 a 30 personas</th>\n",
       "      <td>667</td>\n",
       "      <td>259</td>\n",
       "      <td>16</td>\n",
       "      <td>277</td>\n",
       "      <td>67</td>\n",
       "    </tr>\n",
       "    <tr>\n",
       "      <th>251 y más personas</th>\n",
       "      <td>25</td>\n",
       "      <td>0</td>\n",
       "      <td>3</td>\n",
       "      <td>34</td>\n",
       "      <td>14</td>\n",
       "    </tr>\n",
       "    <tr>\n",
       "      <th>31 a 50 personas</th>\n",
       "      <td>350</td>\n",
       "      <td>33</td>\n",
       "      <td>5</td>\n",
       "      <td>79</td>\n",
       "      <td>23</td>\n",
       "    </tr>\n",
       "    <tr>\n",
       "      <th>51 a 100 personas</th>\n",
       "      <td>252</td>\n",
       "      <td>0</td>\n",
       "      <td>2</td>\n",
       "      <td>97</td>\n",
       "      <td>24</td>\n",
       "    </tr>\n",
       "    <tr>\n",
       "      <th>6 a 10 personas</th>\n",
       "      <td>480</td>\n",
       "      <td>447</td>\n",
       "      <td>15</td>\n",
       "      <td>256</td>\n",
       "      <td>63</td>\n",
       "    </tr>\n",
       "  </tbody>\n",
       "</table>\n",
       "</div>"
      ],
      "text/plain": [
       "creative_sector     film_radio_tv  libraries_museums  music_performing_arts  \\\n",
       "per_ocu                                                                       \n",
       "0 a 5 personas               1226               3975                    117   \n",
       "101 a 250 personas             66                  4                      0   \n",
       "11 a 30 personas              667                259                     16   \n",
       "251 y más personas             25                  0                      3   \n",
       "31 a 50 personas              350                 33                      5   \n",
       "51 a 100 personas             252                  0                      2   \n",
       "6 a 10 personas               480                447                     15   \n",
       "\n",
       "creative_sector     publishing  software  \n",
       "per_ocu                                   \n",
       "0 a 5 personas             910       236  \n",
       "101 a 250 personas          83        22  \n",
       "11 a 30 personas           277        67  \n",
       "251 y más personas          34        14  \n",
       "31 a 50 personas            79        23  \n",
       "51 a 100 personas           97        24  \n",
       "6 a 10 personas            256        63  "
      ]
     },
     "execution_count": 18,
     "metadata": {},
     "output_type": "execute_result"
    }
   ],
   "source": [
    "#Sizes\n",
    "pd.crosstab(denue_51_creative.per_ocu,denue_51_creative.creative_sector)"
   ]
  },
  {
   "cell_type": "code",
   "execution_count": 19,
   "metadata": {
    "collapsed": false
   },
   "outputs": [
    {
     "data": {
      "text/html": [
       "<div>\n",
       "<style scoped>\n",
       "    .dataframe tbody tr th:only-of-type {\n",
       "        vertical-align: middle;\n",
       "    }\n",
       "\n",
       "    .dataframe tbody tr th {\n",
       "        vertical-align: top;\n",
       "    }\n",
       "\n",
       "    .dataframe thead th {\n",
       "        text-align: right;\n",
       "    }\n",
       "</style>\n",
       "<table border=\"1\" class=\"dataframe\">\n",
       "  <thead>\n",
       "    <tr style=\"text-align: right;\">\n",
       "      <th>creative_sector</th>\n",
       "      <th>film_radio_tv</th>\n",
       "      <th>libraries_museums</th>\n",
       "      <th>music_performing_arts</th>\n",
       "      <th>publishing</th>\n",
       "      <th>software</th>\n",
       "    </tr>\n",
       "    <tr>\n",
       "      <th>entidad</th>\n",
       "      <th></th>\n",
       "      <th></th>\n",
       "      <th></th>\n",
       "      <th></th>\n",
       "      <th></th>\n",
       "    </tr>\n",
       "  </thead>\n",
       "  <tbody>\n",
       "    <tr>\n",
       "      <th>AGUASCALIENTES</th>\n",
       "      <td>23</td>\n",
       "      <td>32</td>\n",
       "      <td>1</td>\n",
       "      <td>21</td>\n",
       "      <td>11</td>\n",
       "    </tr>\n",
       "    <tr>\n",
       "      <th>BAJA CALIFORNIA</th>\n",
       "      <td>110</td>\n",
       "      <td>73</td>\n",
       "      <td>2</td>\n",
       "      <td>38</td>\n",
       "      <td>8</td>\n",
       "    </tr>\n",
       "    <tr>\n",
       "      <th>BAJA CALIFORNIA SUR</th>\n",
       "      <td>32</td>\n",
       "      <td>40</td>\n",
       "      <td>1</td>\n",
       "      <td>18</td>\n",
       "      <td>4</td>\n",
       "    </tr>\n",
       "    <tr>\n",
       "      <th>CAMPECHE</th>\n",
       "      <td>40</td>\n",
       "      <td>38</td>\n",
       "      <td>0</td>\n",
       "      <td>27</td>\n",
       "      <td>4</td>\n",
       "    </tr>\n",
       "    <tr>\n",
       "      <th>CHIAPAS</th>\n",
       "      <td>134</td>\n",
       "      <td>196</td>\n",
       "      <td>6</td>\n",
       "      <td>39</td>\n",
       "      <td>6</td>\n",
       "    </tr>\n",
       "    <tr>\n",
       "      <th>CHIHUAHUA</th>\n",
       "      <td>115</td>\n",
       "      <td>144</td>\n",
       "      <td>4</td>\n",
       "      <td>42</td>\n",
       "      <td>20</td>\n",
       "    </tr>\n",
       "    <tr>\n",
       "      <th>COAHUILA DE ZARAGOZA</th>\n",
       "      <td>116</td>\n",
       "      <td>119</td>\n",
       "      <td>1</td>\n",
       "      <td>47</td>\n",
       "      <td>10</td>\n",
       "    </tr>\n",
       "    <tr>\n",
       "      <th>COLIMA</th>\n",
       "      <td>31</td>\n",
       "      <td>43</td>\n",
       "      <td>2</td>\n",
       "      <td>14</td>\n",
       "      <td>3</td>\n",
       "    </tr>\n",
       "    <tr>\n",
       "      <th>DISTRITO FEDERAL</th>\n",
       "      <td>439</td>\n",
       "      <td>295</td>\n",
       "      <td>54</td>\n",
       "      <td>361</td>\n",
       "      <td>109</td>\n",
       "    </tr>\n",
       "    <tr>\n",
       "      <th>DURANGO</th>\n",
       "      <td>36</td>\n",
       "      <td>72</td>\n",
       "      <td>1</td>\n",
       "      <td>30</td>\n",
       "      <td>6</td>\n",
       "    </tr>\n",
       "    <tr>\n",
       "      <th>GUANAJUATO</th>\n",
       "      <td>91</td>\n",
       "      <td>165</td>\n",
       "      <td>2</td>\n",
       "      <td>71</td>\n",
       "      <td>16</td>\n",
       "    </tr>\n",
       "    <tr>\n",
       "      <th>GUERRERO</th>\n",
       "      <td>93</td>\n",
       "      <td>120</td>\n",
       "      <td>1</td>\n",
       "      <td>32</td>\n",
       "      <td>5</td>\n",
       "    </tr>\n",
       "    <tr>\n",
       "      <th>HIDALGO</th>\n",
       "      <td>51</td>\n",
       "      <td>162</td>\n",
       "      <td>3</td>\n",
       "      <td>30</td>\n",
       "      <td>8</td>\n",
       "    </tr>\n",
       "    <tr>\n",
       "      <th>JALISCO</th>\n",
       "      <td>164</td>\n",
       "      <td>265</td>\n",
       "      <td>11</td>\n",
       "      <td>122</td>\n",
       "      <td>31</td>\n",
       "    </tr>\n",
       "    <tr>\n",
       "      <th>MICHOACÁN DE OCAMPO</th>\n",
       "      <td>143</td>\n",
       "      <td>181</td>\n",
       "      <td>5</td>\n",
       "      <td>58</td>\n",
       "      <td>5</td>\n",
       "    </tr>\n",
       "    <tr>\n",
       "      <th>MORELOS</th>\n",
       "      <td>59</td>\n",
       "      <td>107</td>\n",
       "      <td>0</td>\n",
       "      <td>20</td>\n",
       "      <td>2</td>\n",
       "    </tr>\n",
       "    <tr>\n",
       "      <th>MÉXICO</th>\n",
       "      <td>159</td>\n",
       "      <td>555</td>\n",
       "      <td>4</td>\n",
       "      <td>82</td>\n",
       "      <td>13</td>\n",
       "    </tr>\n",
       "    <tr>\n",
       "      <th>NAYARIT</th>\n",
       "      <td>30</td>\n",
       "      <td>66</td>\n",
       "      <td>5</td>\n",
       "      <td>13</td>\n",
       "      <td>4</td>\n",
       "    </tr>\n",
       "    <tr>\n",
       "      <th>NUEVO LEÓN</th>\n",
       "      <td>126</td>\n",
       "      <td>257</td>\n",
       "      <td>15</td>\n",
       "      <td>53</td>\n",
       "      <td>28</td>\n",
       "    </tr>\n",
       "    <tr>\n",
       "      <th>OAXACA</th>\n",
       "      <td>146</td>\n",
       "      <td>347</td>\n",
       "      <td>6</td>\n",
       "      <td>37</td>\n",
       "      <td>10</td>\n",
       "    </tr>\n",
       "    <tr>\n",
       "      <th>PUEBLA</th>\n",
       "      <td>117</td>\n",
       "      <td>267</td>\n",
       "      <td>4</td>\n",
       "      <td>58</td>\n",
       "      <td>20</td>\n",
       "    </tr>\n",
       "    <tr>\n",
       "      <th>QUERÉTARO</th>\n",
       "      <td>43</td>\n",
       "      <td>47</td>\n",
       "      <td>3</td>\n",
       "      <td>33</td>\n",
       "      <td>15</td>\n",
       "    </tr>\n",
       "    <tr>\n",
       "      <th>QUINTANA ROO</th>\n",
       "      <td>57</td>\n",
       "      <td>31</td>\n",
       "      <td>4</td>\n",
       "      <td>44</td>\n",
       "      <td>8</td>\n",
       "    </tr>\n",
       "    <tr>\n",
       "      <th>SAN LUIS POTOSÍ</th>\n",
       "      <td>63</td>\n",
       "      <td>118</td>\n",
       "      <td>2</td>\n",
       "      <td>30</td>\n",
       "      <td>6</td>\n",
       "    </tr>\n",
       "    <tr>\n",
       "      <th>SINALOA</th>\n",
       "      <td>82</td>\n",
       "      <td>70</td>\n",
       "      <td>5</td>\n",
       "      <td>28</td>\n",
       "      <td>12</td>\n",
       "    </tr>\n",
       "    <tr>\n",
       "      <th>SONORA</th>\n",
       "      <td>109</td>\n",
       "      <td>114</td>\n",
       "      <td>2</td>\n",
       "      <td>86</td>\n",
       "      <td>14</td>\n",
       "    </tr>\n",
       "    <tr>\n",
       "      <th>TABASCO</th>\n",
       "      <td>45</td>\n",
       "      <td>97</td>\n",
       "      <td>1</td>\n",
       "      <td>33</td>\n",
       "      <td>9</td>\n",
       "    </tr>\n",
       "    <tr>\n",
       "      <th>TAMAULIPAS</th>\n",
       "      <td>119</td>\n",
       "      <td>73</td>\n",
       "      <td>3</td>\n",
       "      <td>66</td>\n",
       "      <td>17</td>\n",
       "    </tr>\n",
       "    <tr>\n",
       "      <th>TLAXCALA</th>\n",
       "      <td>14</td>\n",
       "      <td>101</td>\n",
       "      <td>1</td>\n",
       "      <td>11</td>\n",
       "      <td>3</td>\n",
       "    </tr>\n",
       "    <tr>\n",
       "      <th>VERACRUZ DE IGNACIO DE LA LLAVE</th>\n",
       "      <td>183</td>\n",
       "      <td>286</td>\n",
       "      <td>5</td>\n",
       "      <td>117</td>\n",
       "      <td>25</td>\n",
       "    </tr>\n",
       "    <tr>\n",
       "      <th>YUCATÁN</th>\n",
       "      <td>49</td>\n",
       "      <td>127</td>\n",
       "      <td>3</td>\n",
       "      <td>50</td>\n",
       "      <td>15</td>\n",
       "    </tr>\n",
       "    <tr>\n",
       "      <th>ZACATECAS</th>\n",
       "      <td>47</td>\n",
       "      <td>110</td>\n",
       "      <td>1</td>\n",
       "      <td>25</td>\n",
       "      <td>2</td>\n",
       "    </tr>\n",
       "  </tbody>\n",
       "</table>\n",
       "</div>"
      ],
      "text/plain": [
       "creative_sector                           film_radio_tv  libraries_museums  \\\n",
       "entidad                                                                      \n",
       "AGUASCALIENTES                                       23                 32   \n",
       "BAJA CALIFORNIA                                     110                 73   \n",
       "BAJA CALIFORNIA SUR                                  32                 40   \n",
       "CAMPECHE                                             40                 38   \n",
       "CHIAPAS                                             134                196   \n",
       "CHIHUAHUA                                           115                144   \n",
       "COAHUILA DE ZARAGOZA                                116                119   \n",
       "COLIMA                                               31                 43   \n",
       "DISTRITO FEDERAL                                    439                295   \n",
       "DURANGO                                              36                 72   \n",
       "GUANAJUATO                                           91                165   \n",
       "GUERRERO                                             93                120   \n",
       "HIDALGO                                              51                162   \n",
       "JALISCO                                             164                265   \n",
       "MICHOACÁN DE OCAMPO                                 143                181   \n",
       "MORELOS                                              59                107   \n",
       "MÉXICO                                              159                555   \n",
       "NAYARIT                                              30                 66   \n",
       "NUEVO LEÓN                                          126                257   \n",
       "OAXACA                                              146                347   \n",
       "PUEBLA                                              117                267   \n",
       "QUERÉTARO                                            43                 47   \n",
       "QUINTANA ROO                                         57                 31   \n",
       "SAN LUIS POTOSÍ                                      63                118   \n",
       "SINALOA                                              82                 70   \n",
       "SONORA                                              109                114   \n",
       "TABASCO                                              45                 97   \n",
       "TAMAULIPAS                                          119                 73   \n",
       "TLAXCALA                                             14                101   \n",
       "VERACRUZ DE IGNACIO DE LA LLAVE                     183                286   \n",
       "YUCATÁN                                              49                127   \n",
       "ZACATECAS                                            47                110   \n",
       "\n",
       "creative_sector                           music_performing_arts  publishing  \\\n",
       "entidad                                                                       \n",
       "AGUASCALIENTES                                                1          21   \n",
       "BAJA CALIFORNIA                                               2          38   \n",
       "BAJA CALIFORNIA SUR                                           1          18   \n",
       "CAMPECHE                                                      0          27   \n",
       "CHIAPAS                                                       6          39   \n",
       "CHIHUAHUA                                                     4          42   \n",
       "COAHUILA DE ZARAGOZA                                          1          47   \n",
       "COLIMA                                                        2          14   \n",
       "DISTRITO FEDERAL                                             54         361   \n",
       "DURANGO                                                       1          30   \n",
       "GUANAJUATO                                                    2          71   \n",
       "GUERRERO                                                      1          32   \n",
       "HIDALGO                                                       3          30   \n",
       "JALISCO                                                      11         122   \n",
       "MICHOACÁN DE OCAMPO                                           5          58   \n",
       "MORELOS                                                       0          20   \n",
       "MÉXICO                                                        4          82   \n",
       "NAYARIT                                                       5          13   \n",
       "NUEVO LEÓN                                                   15          53   \n",
       "OAXACA                                                        6          37   \n",
       "PUEBLA                                                        4          58   \n",
       "QUERÉTARO                                                     3          33   \n",
       "QUINTANA ROO                                                  4          44   \n",
       "SAN LUIS POTOSÍ                                               2          30   \n",
       "SINALOA                                                       5          28   \n",
       "SONORA                                                        2          86   \n",
       "TABASCO                                                       1          33   \n",
       "TAMAULIPAS                                                    3          66   \n",
       "TLAXCALA                                                      1          11   \n",
       "VERACRUZ DE IGNACIO DE LA LLAVE                               5         117   \n",
       "YUCATÁN                                                       3          50   \n",
       "ZACATECAS                                                     1          25   \n",
       "\n",
       "creative_sector                           software  \n",
       "entidad                                             \n",
       "AGUASCALIENTES                                  11  \n",
       "BAJA CALIFORNIA                                  8  \n",
       "BAJA CALIFORNIA SUR                              4  \n",
       "CAMPECHE                                         4  \n",
       "CHIAPAS                                          6  \n",
       "CHIHUAHUA                                       20  \n",
       "COAHUILA DE ZARAGOZA                            10  \n",
       "COLIMA                                           3  \n",
       "DISTRITO FEDERAL                               109  \n",
       "DURANGO                                          6  \n",
       "GUANAJUATO                                      16  \n",
       "GUERRERO                                         5  \n",
       "HIDALGO                                          8  \n",
       "JALISCO                                         31  \n",
       "MICHOACÁN DE OCAMPO                              5  \n",
       "MORELOS                                          2  \n",
       "MÉXICO                                          13  \n",
       "NAYARIT                                          4  \n",
       "NUEVO LEÓN                                      28  \n",
       "OAXACA                                          10  \n",
       "PUEBLA                                          20  \n",
       "QUERÉTARO                                       15  \n",
       "QUINTANA ROO                                     8  \n",
       "SAN LUIS POTOSÍ                                  6  \n",
       "SINALOA                                         12  \n",
       "SONORA                                          14  \n",
       "TABASCO                                          9  \n",
       "TAMAULIPAS                                      17  \n",
       "TLAXCALA                                         3  \n",
       "VERACRUZ DE IGNACIO DE LA LLAVE                 25  \n",
       "YUCATÁN                                         15  \n",
       "ZACATECAS                                        2  "
      ]
     },
     "execution_count": 19,
     "metadata": {},
     "output_type": "execute_result"
    }
   ],
   "source": [
    "#States\n",
    "pd.crosstab(denue_51_creative.entidad,denue_51_creative.creative_sector)"
   ]
  },
  {
   "cell_type": "code",
   "execution_count": 20,
   "metadata": {
    "collapsed": false
   },
   "outputs": [
    {
     "data": {
      "text/html": [
       "<div>\n",
       "<style scoped>\n",
       "    .dataframe tbody tr th:only-of-type {\n",
       "        vertical-align: middle;\n",
       "    }\n",
       "\n",
       "    .dataframe tbody tr th {\n",
       "        vertical-align: top;\n",
       "    }\n",
       "\n",
       "    .dataframe thead th {\n",
       "        text-align: right;\n",
       "    }\n",
       "</style>\n",
       "<table border=\"1\" class=\"dataframe\">\n",
       "  <thead>\n",
       "    <tr style=\"text-align: right;\">\n",
       "      <th>creative_sector</th>\n",
       "      <th>film_radio_tv</th>\n",
       "      <th>libraries_museums</th>\n",
       "      <th>music_performing_arts</th>\n",
       "      <th>publishing</th>\n",
       "      <th>software</th>\n",
       "    </tr>\n",
       "    <tr>\n",
       "      <th>municipio</th>\n",
       "      <th></th>\n",
       "      <th></th>\n",
       "      <th></th>\n",
       "      <th></th>\n",
       "      <th></th>\n",
       "    </tr>\n",
       "  </thead>\n",
       "  <tbody>\n",
       "    <tr>\n",
       "      <th>Abalá</th>\n",
       "      <td>0</td>\n",
       "      <td>1</td>\n",
       "      <td>0</td>\n",
       "      <td>0</td>\n",
       "      <td>0</td>\n",
       "    </tr>\n",
       "    <tr>\n",
       "      <th>Abasolo</th>\n",
       "      <td>0</td>\n",
       "      <td>5</td>\n",
       "      <td>0</td>\n",
       "      <td>0</td>\n",
       "      <td>0</td>\n",
       "    </tr>\n",
       "    <tr>\n",
       "      <th>Abejones</th>\n",
       "      <td>0</td>\n",
       "      <td>1</td>\n",
       "      <td>0</td>\n",
       "      <td>0</td>\n",
       "      <td>0</td>\n",
       "    </tr>\n",
       "    <tr>\n",
       "      <th>Acacoyagua</th>\n",
       "      <td>0</td>\n",
       "      <td>2</td>\n",
       "      <td>0</td>\n",
       "      <td>0</td>\n",
       "      <td>0</td>\n",
       "    </tr>\n",
       "    <tr>\n",
       "      <th>Acajete</th>\n",
       "      <td>0</td>\n",
       "      <td>5</td>\n",
       "      <td>0</td>\n",
       "      <td>0</td>\n",
       "      <td>0</td>\n",
       "    </tr>\n",
       "    <tr>\n",
       "      <th>Acala</th>\n",
       "      <td>0</td>\n",
       "      <td>1</td>\n",
       "      <td>0</td>\n",
       "      <td>0</td>\n",
       "      <td>0</td>\n",
       "    </tr>\n",
       "    <tr>\n",
       "      <th>Acambay de Ruíz Castañeda</th>\n",
       "      <td>0</td>\n",
       "      <td>2</td>\n",
       "      <td>0</td>\n",
       "      <td>0</td>\n",
       "      <td>0</td>\n",
       "    </tr>\n",
       "    <tr>\n",
       "      <th>Acanceh</th>\n",
       "      <td>0</td>\n",
       "      <td>1</td>\n",
       "      <td>0</td>\n",
       "      <td>0</td>\n",
       "      <td>0</td>\n",
       "    </tr>\n",
       "    <tr>\n",
       "      <th>Acapetahua</th>\n",
       "      <td>0</td>\n",
       "      <td>2</td>\n",
       "      <td>0</td>\n",
       "      <td>0</td>\n",
       "      <td>0</td>\n",
       "    </tr>\n",
       "    <tr>\n",
       "      <th>Acaponeta</th>\n",
       "      <td>1</td>\n",
       "      <td>1</td>\n",
       "      <td>0</td>\n",
       "      <td>0</td>\n",
       "      <td>0</td>\n",
       "    </tr>\n",
       "    <tr>\n",
       "      <th>Acapulco de Juárez</th>\n",
       "      <td>30</td>\n",
       "      <td>17</td>\n",
       "      <td>0</td>\n",
       "      <td>9</td>\n",
       "      <td>2</td>\n",
       "    </tr>\n",
       "    <tr>\n",
       "      <th>Acateno</th>\n",
       "      <td>0</td>\n",
       "      <td>1</td>\n",
       "      <td>0</td>\n",
       "      <td>0</td>\n",
       "      <td>0</td>\n",
       "    </tr>\n",
       "    <tr>\n",
       "      <th>Acatepec</th>\n",
       "      <td>0</td>\n",
       "      <td>1</td>\n",
       "      <td>0</td>\n",
       "      <td>0</td>\n",
       "      <td>0</td>\n",
       "    </tr>\n",
       "    <tr>\n",
       "      <th>Acatic</th>\n",
       "      <td>0</td>\n",
       "      <td>1</td>\n",
       "      <td>0</td>\n",
       "      <td>0</td>\n",
       "      <td>0</td>\n",
       "    </tr>\n",
       "    <tr>\n",
       "      <th>Acatlán</th>\n",
       "      <td>0</td>\n",
       "      <td>4</td>\n",
       "      <td>0</td>\n",
       "      <td>0</td>\n",
       "      <td>0</td>\n",
       "    </tr>\n",
       "    <tr>\n",
       "      <th>Acatlán de Juárez</th>\n",
       "      <td>1</td>\n",
       "      <td>2</td>\n",
       "      <td>0</td>\n",
       "      <td>0</td>\n",
       "      <td>0</td>\n",
       "    </tr>\n",
       "    <tr>\n",
       "      <th>Acatlán de Pérez Figueroa</th>\n",
       "      <td>1</td>\n",
       "      <td>2</td>\n",
       "      <td>0</td>\n",
       "      <td>0</td>\n",
       "      <td>0</td>\n",
       "    </tr>\n",
       "    <tr>\n",
       "      <th>Acatzingo</th>\n",
       "      <td>0</td>\n",
       "      <td>4</td>\n",
       "      <td>0</td>\n",
       "      <td>0</td>\n",
       "      <td>0</td>\n",
       "    </tr>\n",
       "    <tr>\n",
       "      <th>Acaxochitlán</th>\n",
       "      <td>1</td>\n",
       "      <td>1</td>\n",
       "      <td>0</td>\n",
       "      <td>0</td>\n",
       "      <td>0</td>\n",
       "    </tr>\n",
       "    <tr>\n",
       "      <th>Acayucan</th>\n",
       "      <td>4</td>\n",
       "      <td>2</td>\n",
       "      <td>0</td>\n",
       "      <td>3</td>\n",
       "      <td>0</td>\n",
       "    </tr>\n",
       "  </tbody>\n",
       "</table>\n",
       "</div>"
      ],
      "text/plain": [
       "creative_sector            film_radio_tv  libraries_museums  \\\n",
       "municipio                                                     \n",
       "Abalá                                  0                  1   \n",
       "Abasolo                                0                  5   \n",
       "Abejones                               0                  1   \n",
       "Acacoyagua                             0                  2   \n",
       "Acajete                                0                  5   \n",
       "Acala                                  0                  1   \n",
       "Acambay de Ruíz Castañeda              0                  2   \n",
       "Acanceh                                0                  1   \n",
       "Acapetahua                             0                  2   \n",
       "Acaponeta                              1                  1   \n",
       "Acapulco de Juárez                    30                 17   \n",
       "Acateno                                0                  1   \n",
       "Acatepec                               0                  1   \n",
       "Acatic                                 0                  1   \n",
       "Acatlán                                0                  4   \n",
       "Acatlán de Juárez                      1                  2   \n",
       "Acatlán de Pérez Figueroa              1                  2   \n",
       "Acatzingo                              0                  4   \n",
       "Acaxochitlán                           1                  1   \n",
       "Acayucan                               4                  2   \n",
       "\n",
       "creative_sector            music_performing_arts  publishing  software  \n",
       "municipio                                                               \n",
       "Abalá                                          0           0         0  \n",
       "Abasolo                                        0           0         0  \n",
       "Abejones                                       0           0         0  \n",
       "Acacoyagua                                     0           0         0  \n",
       "Acajete                                        0           0         0  \n",
       "Acala                                          0           0         0  \n",
       "Acambay de Ruíz Castañeda                      0           0         0  \n",
       "Acanceh                                        0           0         0  \n",
       "Acapetahua                                     0           0         0  \n",
       "Acaponeta                                      0           0         0  \n",
       "Acapulco de Juárez                             0           9         2  \n",
       "Acateno                                        0           0         0  \n",
       "Acatepec                                       0           0         0  \n",
       "Acatic                                         0           0         0  \n",
       "Acatlán                                        0           0         0  \n",
       "Acatlán de Juárez                              0           0         0  \n",
       "Acatlán de Pérez Figueroa                      0           0         0  \n",
       "Acatzingo                                      0           0         0  \n",
       "Acaxochitlán                                   0           0         0  \n",
       "Acayucan                                       0           3         0  "
      ]
     },
     "execution_count": 20,
     "metadata": {},
     "output_type": "execute_result"
    }
   ],
   "source": [
    "#Municipios\n",
    "pd.crosstab(denue_51_creative.municipio,denue_51_creative.creative_sector)[:20]"
   ]
  },
  {
   "cell_type": "markdown",
   "metadata": {},
   "source": [
    "## c. Load all data\n",
    "\n",
    "**Plan**\n",
    "\n",
    "I will write a class that takes a file name, reads it, extracts all creative businesses and also the distribution of companies in all other areas, as well as their size distribution (which we can use to normalise the data)\n",
    "\n",
    "This involves:\n",
    "\n",
    "1. Creating a list of all filenames I want to load\n",
    "2. Writing a class with: \n",
    " * A read method to read the CSV and rename the variables to something tidier\n",
    " * A get_creative method that merges the file with naics_creative lookup and returns all matches\n",
    " * An area_stats method that generates company counts by state and municipio\n",
    "3. Implementing the class while I go for a run :-)\n"
   ]
  },
  {
   "cell_type": "code",
   "execution_count": 21,
   "metadata": {
    "collapsed": false
   },
   "outputs": [],
   "source": [
    "class ReadProcessDenue():\n",
    "    \n",
    "    '''\n",
    "    DenueProcess is a class that takes a filename for a zip file and:\n",
    "   \n",
    "    -Extracts the csv content (read method)\n",
    "    -Cleans variable names (process method)\n",
    "    -Merges with the NAICS Lookup (get_creative method)\n",
    "    -Generates area counts for all sectors (area_counts method).\n",
    "    \n",
    "    It stores the outputs in a creative_businesses attribute, a state_counts attribute and a local_counts \n",
    "    attribute. \n",
    "\n",
    "    '''\n",
    "    \n",
    "    def __init__(self,filepath):\n",
    "        '''\n",
    "        Initialise the class with a filepath\n",
    "        \n",
    "        '''\n",
    "        \n",
    "        self.filepath = filepath\n",
    "        \n",
    "    def read_file(self):\n",
    "        '''\n",
    "        Read the csv\n",
    "        \n",
    "        '''\n",
    "        #Get the filepath\n",
    "        filepath = self.filepath\n",
    "        \n",
    "        #Read the zipfile\n",
    "        zf = zipfile.ZipFile(filepath)\n",
    "        \n",
    "        #Get the name of the datafile\n",
    "        data_file_name = zf.infolist()[1].filename\n",
    "        \n",
    "        #Read the file\n",
    "        denue_data = pd.read_csv(zf.open(data_file_name))\n",
    "        \n",
    "        #Assign the denue data to the denue_data attribute\n",
    "        self.denue_data = denue_data\n",
    "\n",
    "    \n",
    "    def get_creative(self):\n",
    "        '''\n",
    "        Extracts creative companies\n",
    "        \n",
    "        '''\n",
    "        #Read all denue data\n",
    "        all_denue = self.denue_data\n",
    "        \n",
    "        #Merge with the creative lookup\n",
    "        creative_denue = pd.merge(all_denue,naics_creative_lookup_short,\n",
    "                                  left_on='codigo_act',right_on='code_int',how='inner').reset_index(drop=True)\n",
    "        \n",
    "        #Convert the telephone number to a string\n",
    "        #NB the if else is to deal with missing values in the telefone field\n",
    "        creative_denue['telefono'] = [str(int(x)) if type(x)!=float else np.nan for x in creative_denue['telefono']]\n",
    "        \n",
    "        \n",
    "        #We will store two versions: a complete file and a short file with less variables of interest\n",
    "        \n",
    "        #Complete version with somewhat messy variable names\n",
    "        self.denue_creative_long = creative_denue\n",
    "        \n",
    "        #Also store the tidy version\n",
    "        #NB we need to re-concatenate it with the sector info we merged above\n",
    "        self.denue_creative_short = pd.concat([tidy_denue_data(creative_denue),\n",
    "                                               creative_denue[['creative_nesta_2016','creative_refined',\n",
    "                                                               'creative_sector','has_creative']]],axis=1)\n",
    "                                               \n",
    "        \n",
    "        \n",
    "                                               \n",
    "    def get_context_stats(self):\n",
    "        '''\n",
    "        This extracts contextual information that we will use to compare and normalise the creative data.\n",
    "        \n",
    "        NB this is only preliminary. I assume we will want to do more finely grained comparisons. We\n",
    "        can modify this method to extract what we need to do that.\n",
    "        \n",
    "        For now we will get:\n",
    "        -State counts\n",
    "        -Municipio counts\n",
    "        -Sizeband counts\n",
    "        -Sizeband by state and municipality counts\n",
    "        -Incorporation date counts\n",
    "        \n",
    "        '''\n",
    "        \n",
    "        #Load all denue data\n",
    "        all_denue = self.denue_data\n",
    "        \n",
    "        #Extract contextual reports with a function\n",
    "        self.context_stats = get_context(all_denue)\n",
    "        \n",
    "        \n",
    "        \n",
    "        "
   ]
  },
  {
   "cell_type": "code",
   "execution_count": 22,
   "metadata": {
    "collapsed": true
   },
   "outputs": [],
   "source": [
    "def tidy_denue_data(denue_data):\n",
    "    '''\n",
    "    This function returns a clean denue file with a few relevant variables\n",
    "    We will use this for economic analysis\n",
    "    NB the variables we are removing will nevertheless be important for marketing\n",
    "    \n",
    "    '''\n",
    "    \n",
    "    interesting_vars = ['id','nom_estab','raz_social','codigo_act','nombre_act','per_ocu',\n",
    "                       'cod_postal','entidad','municipio','localidad','telefono','correoelec','www',\n",
    "                       'tipoUniEco','latitud','longitud','fecha_alta']\n",
    "    \n",
    "    tidy_name_vars = ['id','name','legal_name','sector','sector_description','employee_sizeband',\n",
    "                      'postcode','state','municipality','location','telephone','email','website','type_organisation',\n",
    "                      'lat','lon','incorp_date']\n",
    "    \n",
    "    denue_selected = denue_data[interesting_vars]\n",
    "    \n",
    "    denue_selected.columns = tidy_name_vars\n",
    "    \n",
    "    return(denue_selected)\n",
    "\n",
    "def get_context(denue_data):\n",
    "    '''\n",
    "    This function extracts some contextual data as part of the get_context_stats method in the ReadProcessDenue\n",
    "    class.\n",
    "    \n",
    "    '''\n",
    "    \n",
    "    #Tidy data (having standard names will help processing later)\n",
    "    tidy_denue = tidy_denue_data(denue_data)\n",
    "    \n",
    "    #Generate a bunch of counts\n",
    "    state_counts, municipality_counts,sizeband_counts,incorp_date_counts = [tidy_denue[x].value_counts() for x in \n",
    "                                                         ['state','municipality',\n",
    "                                                          'employee_sizeband','incorp_date']]\n",
    "    \n",
    "    #And a couple of crosstabs\n",
    "    state_sizeb_crosstabs,municipality_sizeb_crosstabs = [pd.crosstab(tidy_denue[x],\n",
    "                                                                      tidy_denue['employee_sizeband']) for x in\n",
    "                                                         ['state','municipality']]\n",
    "    \n",
    "    #Put everything in a list\n",
    "    out_list = [state_counts,municipality_counts,sizeband_counts,incorp_date_counts,\n",
    "               state_sizeb_crosstabs,municipality_sizeb_crosstabs]\n",
    "    \n",
    "    return(out_list)\n",
    "    \n",
    "    \n",
    "    "
   ]
  },
  {
   "cell_type": "code",
   "execution_count": 23,
   "metadata": {
    "collapsed": false
   },
   "outputs": [
    {
     "name": "stdout",
     "output_type": "stream",
     "text": [
      "Actividad_econo%A6%FCmica.31-33_Industrias_manufactureras.csv.zip\n"
     ]
    },
    {
     "name": "stderr",
     "output_type": "stream",
     "text": [
      "/usr/local/lib/python3.5/site-packages/IPython/core/interactiveshell.py:2821: DtypeWarning: Columns (14,18,33,34) have mixed types. Specify dtype option on import or set low_memory=False.\n",
      "  if self.run_code(code, result):\n"
     ]
    },
    {
     "name": "stdout",
     "output_type": "stream",
     "text": [
      "Actividad_econo%A6%FCmica.46_Comercio_al_por_menor.Parte_3_de_4.csv.zip\n"
     ]
    },
    {
     "name": "stderr",
     "output_type": "stream",
     "text": [
      "/usr/local/lib/python3.5/site-packages/IPython/core/interactiveshell.py:2821: DtypeWarning: Columns (14,18,34) have mixed types. Specify dtype option on import or set low_memory=False.\n",
      "  if self.run_code(code, result):\n"
     ]
    },
    {
     "name": "stdout",
     "output_type": "stream",
     "text": [
      "Actividad_econo%A6%FCmica.46_Comercio_al_por_menor.Parte_4_de_4.csv.zip\n"
     ]
    },
    {
     "name": "stderr",
     "output_type": "stream",
     "text": [
      "/usr/local/lib/python3.5/site-packages/IPython/core/interactiveshell.py:2821: DtypeWarning: Columns (14,18) have mixed types. Specify dtype option on import or set low_memory=False.\n",
      "  if self.run_code(code, result):\n"
     ]
    },
    {
     "name": "stdout",
     "output_type": "stream",
     "text": [
      "Actividad_económica.11_Agricultura__cría_y_explotación_de_animales__aprovechamiento_forestal__pesca_y_caza.csv.zip\n"
     ]
    },
    {
     "name": "stderr",
     "output_type": "stream",
     "text": [
      "/usr/local/lib/python3.5/site-packages/IPython/core/interactiveshell.py:2821: DtypeWarning: Columns (33) have mixed types. Specify dtype option on import or set low_memory=False.\n",
      "  if self.run_code(code, result):\n"
     ]
    },
    {
     "name": "stdout",
     "output_type": "stream",
     "text": [
      "Actividad_económica.21_Minería.csv.zip\n",
      "Actividad_económica.22_Generación__transmisión_y_distribución_de_energía_eléctrica__suministro_de_agua_y_de_gas_por_ductos_al_consumidor_final.csv.zip\n",
      "Actividad_económica.23_Construcción.csv.zip\n"
     ]
    },
    {
     "name": "stderr",
     "output_type": "stream",
     "text": [
      "/usr/local/lib/python3.5/site-packages/IPython/core/interactiveshell.py:2821: DtypeWarning: Columns (14) have mixed types. Specify dtype option on import or set low_memory=False.\n",
      "  if self.run_code(code, result):\n"
     ]
    },
    {
     "name": "stdout",
     "output_type": "stream",
     "text": [
      "Actividad_económica.43_Comercio_al_por_mayor.csv.zip\n"
     ]
    },
    {
     "name": "stderr",
     "output_type": "stream",
     "text": [
      "/usr/local/lib/python3.5/site-packages/IPython/core/interactiveshell.py:2821: DtypeWarning: Columns (14,34) have mixed types. Specify dtype option on import or set low_memory=False.\n",
      "  if self.run_code(code, result):\n"
     ]
    },
    {
     "name": "stdout",
     "output_type": "stream",
     "text": [
      "Actividad_económica.46_Comercio_al_por_menor.Parte_1_de_4.csv.zip\n"
     ]
    },
    {
     "name": "stderr",
     "output_type": "stream",
     "text": [
      "/usr/local/lib/python3.5/site-packages/IPython/core/interactiveshell.py:2821: DtypeWarning: Columns (18,36) have mixed types. Specify dtype option on import or set low_memory=False.\n",
      "  if self.run_code(code, result):\n"
     ]
    },
    {
     "name": "stdout",
     "output_type": "stream",
     "text": [
      "Actividad_económica.46_Comercio_al_por_menor.Parte_2_de_4.csv.zip\n"
     ]
    },
    {
     "name": "stderr",
     "output_type": "stream",
     "text": [
      "/usr/local/lib/python3.5/site-packages/IPython/core/interactiveshell.py:2821: DtypeWarning: Columns (18,34) have mixed types. Specify dtype option on import or set low_memory=False.\n",
      "  if self.run_code(code, result):\n"
     ]
    },
    {
     "name": "stdout",
     "output_type": "stream",
     "text": [
      "Actividad_económica.48-49_Transportes__correos_y_almacenamiento.csv.zip\n"
     ]
    },
    {
     "name": "stderr",
     "output_type": "stream",
     "text": [
      "/usr/local/lib/python3.5/site-packages/IPython/core/interactiveshell.py:2821: DtypeWarning: Columns (34) have mixed types. Specify dtype option on import or set low_memory=False.\n",
      "  if self.run_code(code, result):\n"
     ]
    },
    {
     "name": "stdout",
     "output_type": "stream",
     "text": [
      "Actividad_económica.51_Información_en_medios_masivos.csv.zip\n",
      "Actividad_económica.52_Servicios_financieros_y_de_seguros.csv.zip\n",
      "Actividad_económica.53_Servicios_inmobiliarios_y_de_alquiler_de_bienes_muebles_e_intangibles.csv.zip\n",
      "Actividad_económica.54_Servicios_profesionales__científicos_y_técnicos.csv.zip\n",
      "Actividad_económica.55_Corporativos.csv.zip\n",
      "Actividad_económica.56_Servicios_de_apoyo_a_los_negocios_y_manejo_de_desechos_y_servicios_de_remediación.csv.zip\n",
      "Actividad_económica.61_Servicios_educativos.csv.zip\n"
     ]
    },
    {
     "name": "stderr",
     "output_type": "stream",
     "text": [
      "/usr/local/lib/python3.5/site-packages/IPython/core/interactiveshell.py:2821: DtypeWarning: Columns (18) have mixed types. Specify dtype option on import or set low_memory=False.\n",
      "  if self.run_code(code, result):\n"
     ]
    },
    {
     "name": "stdout",
     "output_type": "stream",
     "text": [
      "Actividad_económica.62_Servicios_de_salud_y_de_asistencia_social.csv.zip\n",
      "Actividad_económica.71_Servicios_de_esparcimiento_culturales_y_deportivos__y_otros_servicios_recreativos.csv.zip\n",
      "Actividad_económica.72_Servicios_de_alojamiento_temporal_y_de_preparación_de_alimentos_y_bebidas.csv.zip\n",
      "Actividad_económica.81_Otros_servicios_excepto_actividades_gubernamentales.csv.zip\n",
      "Actividad_económica.93_Actividades_legislativas__gubernamentales__de_impartición_de_justicia_y_de_organismos_internacionales_y_extraterritoriales.csv.zip\n"
     ]
    }
   ],
   "source": [
    "#Let's run this\n",
    "\n",
    "#Extract a list of files in the 'sector data' directory\n",
    "all_sector_files = os.listdir('/Users/jmateosgarcia/links/mexico/data/external/sector_data')\n",
    "sector_files_csv = [x for x in all_sector_files if 'csv' in x]\n",
    "\n",
    "\n",
    "#This is a container list where we will put the info we are interested in for now (the tidy denue data and the \n",
    "# contextual data\n",
    "\n",
    "denue_eda_outputs = []\n",
    "\n",
    "\n",
    "#We'll run it as an old school loop\n",
    "for dataset in sector_files_csv:\n",
    "    \n",
    "    #For each dataset...\n",
    "    #We print it to keep track of things\n",
    "    \n",
    "    print(dataset)\n",
    "    \n",
    "    #Create the path\n",
    "    input_file_path = ext_data+'/sector_data/'+dataset\n",
    "    \n",
    "    #Initialise the class\n",
    "    denue_object = ReadProcessDenue(input_file_path)\n",
    "    \n",
    "    #Read the data\n",
    "    denue_object.read_file()\n",
    "    \n",
    "    #Get the creative data\n",
    "    denue_object.get_creative()\n",
    "    \n",
    "    #Get the contextual data\n",
    "    denue_object.get_context_stats()\n",
    "    \n",
    "    #Put everything in a list\n",
    "    outputs_of_interest = [denue_object.denue_creative_short,denue_object.denue_creative_long,\n",
    "                          denue_object.context_stats]\n",
    "    \n",
    "    #Append to DENUE\n",
    "    denue_eda_outputs.append(outputs_of_interest) \n",
    "    \n",
    "    \n",
    "\n",
    "#I'm ignoring the warnings although eventually I will fix the code to remove them"
   ]
  },
  {
   "cell_type": "code",
   "execution_count": 24,
   "metadata": {
    "collapsed": true
   },
   "outputs": [],
   "source": [
    "#This concatenates all the creative companies into a single dataframe\n",
    "creative_tidy = pd.concat([x[0] for x in denue_eda_outputs]).reset_index(drop=True)\n",
    "creative_tidy.to_csv(proc_data+'/{today}_denue_creative.csv'.format(today=today_str))"
   ]
  },
  {
   "cell_type": "code",
   "execution_count": 25,
   "metadata": {
    "collapsed": false
   },
   "outputs": [],
   "source": [
    "#And this saves all the outputs as a Python serialised (pickle) file\n",
    "\n",
    "with open(proc_data+'/{today}_denue_processing_outputs'.format(today=today_str),'wb') as outfile:\n",
    "    pickle.dump(denue_eda_outputs,outfile)\n"
   ]
  },
  {
   "cell_type": "markdown",
   "metadata": {},
   "source": [
    "## 2. Explore data\n",
    "\n",
    "Where we explore the DENUE data we have downloaded. \n",
    "\n",
    "The exploration has 2 angles:\n",
    "\n",
    "* Descriptives\n",
    "  * Sectoral distribution\n",
    "  * Geography of the sector (including maps and specialisation)\n",
    "  * Incorporation dates ('age'?)\n",
    "* Comparative analysis\n",
    "  * Compare CI sizebands with rest of the economy or other sectors\n",
    "  * Compare CI incorporation dates with rest of the economy or other sectors\n",
    "* Availability of contact details\n",
    "  * This will inform the survey design and implementation \n"
   ]
  },
  {
   "cell_type": "markdown",
   "metadata": {},
   "source": [
    "### Sectoral distribution"
   ]
  },
  {
   "cell_type": "markdown",
   "metadata": {},
   "source": [
    "#### How many creative businesses are there in Mexico, and in what sectors?"
   ]
  },
  {
   "cell_type": "code",
   "execution_count": 26,
   "metadata": {
    "collapsed": false
   },
   "outputs": [
    {
     "name": "stdout",
     "output_type": "stream",
     "text": [
      "According to the Nesta 2016 NAICs definition there are 90004 creative business in Mexico\n",
      "\n",
      "\n",
      "According to the refined definition there are 69228 creative business in Mexico\n"
     ]
    }
   ],
   "source": [
    "#According to the Nesta NAICS definition\n",
    "nesta_2016_def = creative_tidy.loc[creative_tidy.creative_nesta_2016==1,:]\n",
    "\n",
    "nesta_ref = creative_tidy.loc[creative_tidy.creative_refined==1,:]\n",
    "\n",
    "print(\"According to the Nesta 2016 NAICs definition there are {num} creative business in Mexico\".\n",
    "      format(num=len(nesta_2016_def)))\n",
    "\n",
    "print('\\n')\n",
    "\n",
    "print(\"According to the refined definition there are {num} creative business in Mexico\".\n",
    "      format(num=len(nesta_ref)))"
   ]
  },
  {
   "cell_type": "code",
   "execution_count": 27,
   "metadata": {
    "collapsed": false
   },
   "outputs": [
    {
     "data": {
      "text/plain": [
       "90004"
      ]
     },
     "execution_count": 27,
     "metadata": {},
     "output_type": "execute_result"
    }
   ],
   "source": [
    "#Do they have unique ids? \n",
    "\n",
    "#Yes. We should in any case check their legal status\n",
    "len(set(nesta_2016_def.id))"
   ]
  },
  {
   "cell_type": "code",
   "execution_count": 28,
   "metadata": {
    "collapsed": false
   },
   "outputs": [
    {
     "data": {
      "text/plain": [
       "<matplotlib.axes._subplots.AxesSubplot at 0x130bba748>"
      ]
     },
     "execution_count": 28,
     "metadata": {},
     "output_type": "execute_result"
    },
    {
     "data": {
      "image/png": "[encoded data removed]",
      "text/plain": [
       "<matplotlib.figure.Figure at 0x126f62e80>"
      ]
     },
     "metadata": {},
     "output_type": "display_data"
    }
   ],
   "source": [
    "#Compare both:\n",
    "\n",
    "#We create a table that concatenates both sectors\n",
    "creative_comp_table = pd.concat([nesta_2016_def['creative_sector'].value_counts(),\n",
    "                                nesta_ref['creative_sector'].value_counts()],axis=1)\n",
    "\n",
    "#Rename columns\n",
    "creative_comp_table.columns=['creative_nesta_2016','creative_refined_def']\n",
    "\n",
    "#Sort values\n",
    "creative_comp_table.sort_values('creative_nesta_2016',ascending=False,inplace=True)\n",
    "\n",
    "#We extract the index of the table to sort charts later\n",
    "sectors_sorted = creative_comp_table.index\n",
    "\n",
    "\n",
    "fig,ax = plt.subplots(figsize=(10,5))\n",
    "\n",
    "\n",
    "\n",
    "creative_comp_table.plot.bar(ax=ax,title='Number of creative businesses in DENUE according to different definitions')"
   ]
  },
  {
   "cell_type": "markdown",
   "metadata": {},
   "source": [
    "If we look at the `naics_creative_lookup_short` file we can see what explains the differences:\n",
    "\n",
    "* Music and performing arts in Nesta 2016 includes many generic and sports related educational activities\n",
    "* Advertising and marketing in Nesta 2016 includes management consulting activities\n",
    "* Architecture in Nesta 2016 includes engineering and drafting services, building inspection and other things unrelated to architectural design\n",
    "* Crafts in Nesta 2016 doesn't include several activities related to jewelry and metalwork\n",
    "\n",
    "As mentioned before, we will focus on the Nesta definition for now. We can change the definition later."
   ]
  },
  {
   "cell_type": "markdown",
   "metadata": {},
   "source": [
    "#### How many people work in the sector?"
   ]
  },
  {
   "cell_type": "code",
   "execution_count": 29,
   "metadata": {
    "collapsed": false
   },
   "outputs": [],
   "source": [
    "#We call them cis for creative industries\n",
    "cis = nesta_2016_def.copy()\n",
    "\n",
    "#Make estado lowercase to match with the map data later\n",
    "cis['state'] = [x.lower().strip() for x in cis['state']]\n"
   ]
  },
  {
   "cell_type": "code",
   "execution_count": 30,
   "metadata": {
    "collapsed": false
   },
   "outputs": [
    {
     "data": {
      "text/html": [
       "<div>\n",
       "<style scoped>\n",
       "    .dataframe tbody tr th:only-of-type {\n",
       "        vertical-align: middle;\n",
       "    }\n",
       "\n",
       "    .dataframe tbody tr th {\n",
       "        vertical-align: top;\n",
       "    }\n",
       "\n",
       "    .dataframe thead th {\n",
       "        text-align: right;\n",
       "    }\n",
       "</style>\n",
       "<table border=\"1\" class=\"dataframe\">\n",
       "  <thead>\n",
       "    <tr style=\"text-align: right;\">\n",
       "      <th></th>\n",
       "      <th>employee_sizeband</th>\n",
       "      <th>share_pc</th>\n",
       "    </tr>\n",
       "  </thead>\n",
       "  <tbody>\n",
       "    <tr>\n",
       "      <th>0 a 5 personas</th>\n",
       "      <td>68347</td>\n",
       "      <td>75.937736</td>\n",
       "    </tr>\n",
       "    <tr>\n",
       "      <th>6 a 10 personas</th>\n",
       "      <td>10324</td>\n",
       "      <td>11.470601</td>\n",
       "    </tr>\n",
       "    <tr>\n",
       "      <th>11 a 30 personas</th>\n",
       "      <td>7851</td>\n",
       "      <td>8.722946</td>\n",
       "    </tr>\n",
       "    <tr>\n",
       "      <th>31 a 50 personas</th>\n",
       "      <td>1954</td>\n",
       "      <td>2.171015</td>\n",
       "    </tr>\n",
       "    <tr>\n",
       "      <th>51 a 100 personas</th>\n",
       "      <td>818</td>\n",
       "      <td>0.908848</td>\n",
       "    </tr>\n",
       "    <tr>\n",
       "      <th>101 a 250 personas</th>\n",
       "      <td>446</td>\n",
       "      <td>0.495534</td>\n",
       "    </tr>\n",
       "    <tr>\n",
       "      <th>251 y más personas</th>\n",
       "      <td>264</td>\n",
       "      <td>0.293320</td>\n",
       "    </tr>\n",
       "  </tbody>\n",
       "</table>\n",
       "</div>"
      ],
      "text/plain": [
       "                    employee_sizeband   share_pc\n",
       "0 a 5 personas                  68347  75.937736\n",
       "6 a 10 personas                 10324  11.470601\n",
       "11 a 30 personas                 7851   8.722946\n",
       "31 a 50 personas                 1954   2.171015\n",
       "51 a 100 personas                 818   0.908848\n",
       "101 a 250 personas                446   0.495534\n",
       "251 y más personas                264   0.293320"
      ]
     },
     "execution_count": 30,
     "metadata": {},
     "output_type": "execute_result"
    }
   ],
   "source": [
    "#This is the size distribution\n",
    "\n",
    "size_distribution = pd.DataFrame(cis['employee_sizeband'].value_counts())\n",
    "size_distribution['share_pc'] = 100*size_distribution/size_distribution.sum()\n",
    "\n",
    "sizeb_sorted = size_distribution.index\n",
    "\n",
    "size_distribution"
   ]
  },
  {
   "cell_type": "code",
   "execution_count": 31,
   "metadata": {
    "collapsed": false
   },
   "outputs": [
    {
     "data": {
      "text/plain": [
       "(-0.5, 11.5)"
      ]
     },
     "execution_count": 31,
     "metadata": {},
     "output_type": "execute_result"
    },
    {
     "data": {
      "image/png": "[encoded data removed]",
      "text/plain": [
       "<matplotlib.figure.Figure at 0x11b42aa20>"
      ]
     },
     "metadata": {},
     "output_type": "display_data"
    }
   ],
   "source": [
    "#Sizeband by sector (we normalise and stack)\n",
    "\n",
    "sector_size = pd.crosstab(cis['creative_sector'],cis['employee_sizeband'],normalize=0)\n",
    "\n",
    "#We use the lists to sort the dataframe by sector size and by sizeband size \n",
    "\n",
    "fig,ax = plt.subplots(figsize=(10,5))\n",
    "\n",
    "sector_size.loc[sectors_sorted,sizeb_sorted].plot.bar(stacked=True,ax=ax,width=0.75,\n",
    "                                                      title='Sector distribution by sector')\n",
    "\n",
    "#We adjust limits to fit the legend on the right\n",
    "ax.set_xlim((-0.5,11.5))"
   ]
  },
  {
   "cell_type": "code",
   "execution_count": 32,
   "metadata": {
    "collapsed": true
   },
   "outputs": [],
   "source": [
    "#Create a midpoint estimate"
   ]
  },
  {
   "cell_type": "code",
   "execution_count": 33,
   "metadata": {
    "collapsed": false
   },
   "outputs": [],
   "source": [
    "def get_midpoint(sizeband_value):\n",
    "    '''\n",
    "    This function extracts a midpoint estimate from the sizeand variable in the DENUE data\n",
    "    \n",
    "    '''\n",
    "    \n",
    "    #With the exception of '251 y mas...' the categories say 'x to y' people. We will split on whitespace\n",
    "    #and extract the values,turn them into integers and average them.\n",
    "    \n",
    "    #We assume that the top value is 251. Maybe we could survey these companies to get their employment. Who are they?\n",
    "    \n",
    "    if '251' in sizeband_value:\n",
    "        estimate = 251\n",
    "        \n",
    "    else:\n",
    "        #Split\n",
    "        split = sizeband_value.split(\" \")\n",
    "\n",
    "        #Get mean\n",
    "        estimate = np.mean([int(split[0]),int(split[2])])\n",
    "        \n",
    "    return(estimate)\n",
    "        \n",
    "    "
   ]
  },
  {
   "cell_type": "code",
   "execution_count": 34,
   "metadata": {
    "collapsed": false
   },
   "outputs": [],
   "source": [
    "#Here it is\n",
    "cis['employment_estimate'] = [get_midpoint(x) for x in cis.employee_sizeband]"
   ]
  },
  {
   "cell_type": "code",
   "execution_count": 35,
   "metadata": {
    "collapsed": false
   },
   "outputs": [
    {
     "data": {
      "text/plain": [
       "699838.0"
      ]
     },
     "execution_count": 35,
     "metadata": {},
     "output_type": "execute_result"
    }
   ],
   "source": [
    "cis.employment_estimate.sum()"
   ]
  },
  {
   "cell_type": "markdown",
   "metadata": {},
   "source": [
    "This number is significantly lower than what other people say, eg '2m jobs including 'direct and indirect' jobs' according to [this blog](https://www.forbes.com.mx/la-cultura-riqueza-mal-vista/) (Note that it includes no definition). Note that the right-censoring of the data means that we are probably underestimating the size of the companies in DENUE (for example, according to [Wikipedia](https://es.wikipedia.org/wiki/Televisa), Televisa employs 15,000 people but these data would estimate its employmnent at 11.\n",
    "\n",
    "Maybe we could run the bigger companies vs Wikipedia to extract their employment? What are they?"
   ]
  },
  {
   "cell_type": "code",
   "execution_count": 36,
   "metadata": {
    "collapsed": false
   },
   "outputs": [],
   "source": [
    "large_company_list = list(cis.loc[cis.employment_estimate>250,'name'])"
   ]
  },
  {
   "cell_type": "code",
   "execution_count": 37,
   "metadata": {
    "collapsed": false
   },
   "outputs": [
    {
     "data": {
      "text/plain": [
       "['RSI HOME PRODUCTS S DE RL DE CV',\n",
       " 'GRUPO INTERMARMOL SA DE CV',\n",
       " 'GRUPO INTERMARMOL, S.A. DE C.V.',\n",
       " 'MARMOLES EL PASO, S.A. DE C.V.',\n",
       " 'CANTERAS EL DELFIN SA DE CV',\n",
       " 'MARMOLES INDUSTRIALES CASTRO SA DE CV',\n",
       " 'GRUPO TENERIFE',\n",
       " 'MODULAR VANITY TOPS, S. DE R.L.',\n",
       " 'ABRASIVOS AUSTROMEX, S.A. DE C.V.',\n",
       " 'COMPAÑIA NACIONAL DE ABRASIVOS SA DE CV']"
      ]
     },
     "execution_count": 37,
     "metadata": {},
     "output_type": "execute_result"
    }
   ],
   "source": [
    "large_company_list[:10]\n",
    "\n",
    "#There is some repetition in the names. Are these different organisations or duplicates?"
   ]
  },
  {
   "cell_type": "code",
   "execution_count": 38,
   "metadata": {
    "collapsed": false
   },
   "outputs": [
    {
     "data": {
      "text/plain": [
       "<matplotlib.axes._subplots.AxesSubplot at 0x125ad01d0>"
      ]
     },
     "execution_count": 38,
     "metadata": {},
     "output_type": "execute_result"
    },
    {
     "data": {
      "image/png": "[encoded data removed]",
      "text/plain": [
       "<matplotlib.figure.Figure at 0x131e41b70>"
      ]
     },
     "metadata": {},
     "output_type": "display_data"
    }
   ],
   "source": [
    "#Create sector size estimates\n",
    "sector_size_estimates = cis.groupby('creative_sector')['employment_estimate'].sum().sort_values(ascending=False)\n",
    "\n",
    "fig,ax = plt.subplots(figsize=(10,5))\n",
    "\n",
    "sector_size_estimates.plot.bar(ax=ax,color='orange',title='Sector size estimates')\n"
   ]
  },
  {
   "cell_type": "markdown",
   "metadata": {},
   "source": [
    "#### Where is the sector?\n",
    "\n",
    "We will examine its geography in terms of:\n",
    "* Total levels of activity by state and municipality, and totals by subsector\n",
    "* Values normalised by activity in other industries"
   ]
  },
  {
   "cell_type": "code",
   "execution_count": 39,
   "metadata": {
    "collapsed": false
   },
   "outputs": [],
   "source": [
    "#Let's end the day with a map\n",
    "\n",
    "#Distribution of businesses by state\n",
    "state_creative_counts = cis['state'].value_counts()\n",
    "\n",
    "#Remember we loaded the estado shapefile before. We make the estate name lowercases to merge on them\n",
    "estados['NOM_ENT'] = [x.lower().strip() for x in estados['NOM_ENT']]\n",
    "\n",
    "#They also use different names for Mexico City (DENUE calls it distrito federal and \n",
    "#the shapefiles call it Ciudad de Mexico. \n",
    "#We fix hackily\n",
    "\n",
    "estados['NOM_ENT'] = ['distrito federal' if x =='ciudad de méxico' else x for x in estados['NOM_ENT']]\n",
    "\n",
    "#Merge them\n",
    "state_creative_polys = pd.merge(estados,state_creative_counts.reset_index(drop=False),left_on='NOM_ENT',\n",
    "                               right_on='index')"
   ]
  },
  {
   "cell_type": "code",
   "execution_count": 43,
   "metadata": {
    "collapsed": false
   },
   "outputs": [
    {
     "data": {
      "image/png": "[encoded data removed]",
      "text/plain": [
       "<matplotlib.figure.Figure at 0x12fcd8198>"
      ]
     },
     "metadata": {},
     "output_type": "display_data"
    }
   ],
   "source": [
    "fig,ax = plt.subplots(figsize=(13,7))\n",
    "\n",
    "state_creative_polys.plot('state',ax=ax,cmap='viridis',legend=True)\n",
    "\n",
    "ax.set_title('Number of creative businesses by state',size=16)\n",
    "\n",
    "#Set axis off\n",
    "ax.get_xaxis().set_visible(False)\n",
    "ax.get_yaxis().set_visible(False)\n"
   ]
  },
  {
   "cell_type": "code",
   "execution_count": 41,
   "metadata": {
    "collapsed": true
   },
   "outputs": [],
   "source": [
    "# Let's calculate measures of specialisation\n",
    "\n",
    "#This function calculates LQs\n",
    "\n",
    "#Functions\n",
    "def create_lq_df(df,year=None):\n",
    "    '''\n",
    "    Takes a df with cells = activity in col in row and returns a df with cells = lq\n",
    "    \n",
    "    '''\n",
    "    \n",
    "    area_activity = df.sum(axis=0)\n",
    "    area_shares = area_activity/area_activity.sum()\n",
    "    \n",
    "    lqs = df.apply(lambda x: (x/x.sum())/area_shares, axis=1)\n",
    "    \n",
    "    if year!=None:\n",
    "        lqs['period'] = year\n",
    "    \n",
    "    return(lqs)"
   ]
  },
  {
   "cell_type": "code",
   "execution_count": 71,
   "metadata": {
    "collapsed": false
   },
   "outputs": [
    {
     "data": {
      "text/html": [
       "<div>\n",
       "<style scoped>\n",
       "    .dataframe tbody tr th:only-of-type {\n",
       "        vertical-align: middle;\n",
       "    }\n",
       "\n",
       "    .dataframe tbody tr th {\n",
       "        vertical-align: top;\n",
       "    }\n",
       "\n",
       "    .dataframe thead th {\n",
       "        text-align: right;\n",
       "    }\n",
       "</style>\n",
       "<table border=\"1\" class=\"dataframe\">\n",
       "  <thead>\n",
       "    <tr style=\"text-align: right;\">\n",
       "      <th>creative_sector</th>\n",
       "      <th>advertising_marketing</th>\n",
       "      <th>architecture</th>\n",
       "      <th>crafts</th>\n",
       "      <th>design</th>\n",
       "      <th>film_radio_tv</th>\n",
       "      <th>libraries_museums</th>\n",
       "      <th>music_performing_arts</th>\n",
       "      <th>publishing</th>\n",
       "      <th>software</th>\n",
       "    </tr>\n",
       "    <tr>\n",
       "      <th>state</th>\n",
       "      <th></th>\n",
       "      <th></th>\n",
       "      <th></th>\n",
       "      <th></th>\n",
       "      <th></th>\n",
       "      <th></th>\n",
       "      <th></th>\n",
       "      <th></th>\n",
       "      <th></th>\n",
       "    </tr>\n",
       "  </thead>\n",
       "  <tbody>\n",
       "    <tr>\n",
       "      <th>aguascalientes</th>\n",
       "      <td>201</td>\n",
       "      <td>109</td>\n",
       "      <td>49</td>\n",
       "      <td>63</td>\n",
       "      <td>23</td>\n",
       "      <td>47</td>\n",
       "      <td>356</td>\n",
       "      <td>199</td>\n",
       "      <td>68</td>\n",
       "    </tr>\n",
       "    <tr>\n",
       "      <th>baja california</th>\n",
       "      <td>415</td>\n",
       "      <td>244</td>\n",
       "      <td>98</td>\n",
       "      <td>83</td>\n",
       "      <td>110</td>\n",
       "      <td>111</td>\n",
       "      <td>780</td>\n",
       "      <td>521</td>\n",
       "      <td>104</td>\n",
       "    </tr>\n",
       "    <tr>\n",
       "      <th>baja california sur</th>\n",
       "      <td>136</td>\n",
       "      <td>89</td>\n",
       "      <td>23</td>\n",
       "      <td>24</td>\n",
       "      <td>32</td>\n",
       "      <td>69</td>\n",
       "      <td>248</td>\n",
       "      <td>95</td>\n",
       "      <td>19</td>\n",
       "    </tr>\n",
       "    <tr>\n",
       "      <th>campeche</th>\n",
       "      <td>112</td>\n",
       "      <td>94</td>\n",
       "      <td>9</td>\n",
       "      <td>19</td>\n",
       "      <td>40</td>\n",
       "      <td>54</td>\n",
       "      <td>254</td>\n",
       "      <td>132</td>\n",
       "      <td>26</td>\n",
       "    </tr>\n",
       "    <tr>\n",
       "      <th>chiapas</th>\n",
       "      <td>397</td>\n",
       "      <td>176</td>\n",
       "      <td>59</td>\n",
       "      <td>63</td>\n",
       "      <td>134</td>\n",
       "      <td>239</td>\n",
       "      <td>1271</td>\n",
       "      <td>532</td>\n",
       "      <td>43</td>\n",
       "    </tr>\n",
       "  </tbody>\n",
       "</table>\n",
       "</div>"
      ],
      "text/plain": [
       "creative_sector      advertising_marketing  architecture  crafts  design  \\\n",
       "state                                                                      \n",
       "aguascalientes                         201           109      49      63   \n",
       "baja california                        415           244      98      83   \n",
       "baja california sur                    136            89      23      24   \n",
       "campeche                               112            94       9      19   \n",
       "chiapas                                397           176      59      63   \n",
       "\n",
       "creative_sector      film_radio_tv  libraries_museums  music_performing_arts  \\\n",
       "state                                                                          \n",
       "aguascalientes                  23                 47                    356   \n",
       "baja california                110                111                    780   \n",
       "baja california sur             32                 69                    248   \n",
       "campeche                        40                 54                    254   \n",
       "chiapas                        134                239                   1271   \n",
       "\n",
       "creative_sector      publishing  software  \n",
       "state                                      \n",
       "aguascalientes              199        68  \n",
       "baja california             521       104  \n",
       "baja california sur          95        19  \n",
       "campeche                    132        26  \n",
       "chiapas                     532        43  "
      ]
     },
     "execution_count": 71,
     "metadata": {},
     "output_type": "execute_result"
    }
   ],
   "source": [
    "#We create a wide table with creative company counts by state and creative sector\n",
    "\n",
    "#This simply pivots a grouped df where we counted the number of unique ids in every state-sector combination\n",
    "creative_subsector_state = pd.pivot_table(\n",
    "    cis.groupby(['state','creative_sector'])['id'].count().reset_index(drop=False),\n",
    "    index='state',\n",
    "    columns='creative_sector',values='id')\n",
    "\n",
    "creative_subsector_state.head()"
   ]
  },
  {
   "cell_type": "code",
   "execution_count": 72,
   "metadata": {
    "collapsed": false
   },
   "outputs": [],
   "source": [
    "#Also calculate the total CIs per state, summing over the rows above\n",
    "creative_industries_state =creative_subsector_state.sum(axis=1)"
   ]
  },
  {
   "cell_type": "code",
   "execution_count": 88,
   "metadata": {
    "collapsed": false
   },
   "outputs": [],
   "source": [
    "#And now we combine this with the total counts by sector\n",
    "\n",
    "#All state counts\n",
    "#Concatenate and sum the company counts we extracted before\n",
    "all_state = pd.concat([x[2][0] for x in denue_eda_outputs],axis=1).sum(axis=1)\n",
    "\n",
    "#Make the index lowercase for merging\n",
    "#We also need to remove trailing whitespaces \n",
    "all_state.index = [x.lower().strip() for x in all_state.index]\n",
    "\n",
    "#Now we need to be careful with how we combinbe things. \n",
    "#We want to identify 'non-creative' businesses in each state.\n",
    "#We do this by combining all with creative and subtracting creative.\n",
    "\n",
    "creative_all_state = pd.concat([creative_industries_state,all_state],axis=1)\n",
    "creative_all_state.columns=['creative_industries','all_industries']\n",
    "\n",
    "creative_all_state['not_creative'] =creative_all_state['all_industries'] - creative_all_state['creative_industries']"
   ]
  },
  {
   "cell_type": "code",
   "execution_count": 99,
   "metadata": {
    "collapsed": false
   },
   "outputs": [
    {
     "data": {
      "text/html": [
       "<div>\n",
       "<style scoped>\n",
       "    .dataframe tbody tr th:only-of-type {\n",
       "        vertical-align: middle;\n",
       "    }\n",
       "\n",
       "    .dataframe tbody tr th {\n",
       "        vertical-align: top;\n",
       "    }\n",
       "\n",
       "    .dataframe thead th {\n",
       "        text-align: right;\n",
       "    }\n",
       "</style>\n",
       "<table border=\"1\" class=\"dataframe\">\n",
       "  <thead>\n",
       "    <tr style=\"text-align: right;\">\n",
       "      <th></th>\n",
       "      <th>all_creative</th>\n",
       "      <th>advertising_marketing</th>\n",
       "      <th>architecture</th>\n",
       "      <th>crafts</th>\n",
       "      <th>design</th>\n",
       "      <th>film_radio_tv</th>\n",
       "      <th>libraries_museums</th>\n",
       "      <th>music_performing_arts</th>\n",
       "      <th>publishing</th>\n",
       "      <th>software</th>\n",
       "    </tr>\n",
       "    <tr>\n",
       "      <th>state</th>\n",
       "      <th></th>\n",
       "      <th></th>\n",
       "      <th></th>\n",
       "      <th></th>\n",
       "      <th></th>\n",
       "      <th></th>\n",
       "      <th></th>\n",
       "      <th></th>\n",
       "      <th></th>\n",
       "      <th></th>\n",
       "    </tr>\n",
       "  </thead>\n",
       "  <tbody>\n",
       "    <tr>\n",
       "      <th>aguascalientes</th>\n",
       "      <td>1.101123</td>\n",
       "      <td>1.235864</td>\n",
       "      <td>1.426853</td>\n",
       "      <td>0.697184</td>\n",
       "      <td>2.064779</td>\n",
       "      <td>0.666773</td>\n",
       "      <td>0.683274</td>\n",
       "      <td>1.142952</td>\n",
       "      <td>0.922782</td>\n",
       "      <td>1.604912</td>\n",
       "    </tr>\n",
       "    <tr>\n",
       "      <th>baja california</th>\n",
       "      <td>1.168069</td>\n",
       "      <td>1.223875</td>\n",
       "      <td>1.531995</td>\n",
       "      <td>0.668793</td>\n",
       "      <td>1.304745</td>\n",
       "      <td>1.529529</td>\n",
       "      <td>0.773989</td>\n",
       "      <td>1.201122</td>\n",
       "      <td>1.158772</td>\n",
       "      <td>1.177308</td>\n",
       "    </tr>\n",
       "    <tr>\n",
       "      <th>baja california sur</th>\n",
       "      <td>1.191771</td>\n",
       "      <td>1.372960</td>\n",
       "      <td>1.912879</td>\n",
       "      <td>0.537308</td>\n",
       "      <td>1.291483</td>\n",
       "      <td>1.523158</td>\n",
       "      <td>1.646990</td>\n",
       "      <td>1.307297</td>\n",
       "      <td>0.723293</td>\n",
       "      <td>0.736276</td>\n",
       "    </tr>\n",
       "    <tr>\n",
       "      <th>campeche</th>\n",
       "      <td>1.028936</td>\n",
       "      <td>0.969590</td>\n",
       "      <td>1.732513</td>\n",
       "      <td>0.180297</td>\n",
       "      <td>0.876763</td>\n",
       "      <td>1.632699</td>\n",
       "      <td>1.105317</td>\n",
       "      <td>1.148174</td>\n",
       "      <td>0.861818</td>\n",
       "      <td>0.863995</td>\n",
       "    </tr>\n",
       "    <tr>\n",
       "      <th>chiapas</th>\n",
       "      <td>0.859626</td>\n",
       "      <td>0.729162</td>\n",
       "      <td>0.688216</td>\n",
       "      <td>0.250762</td>\n",
       "      <td>0.616783</td>\n",
       "      <td>1.160418</td>\n",
       "      <td>1.037897</td>\n",
       "      <td>1.218941</td>\n",
       "      <td>0.736913</td>\n",
       "      <td>0.303159</td>\n",
       "    </tr>\n",
       "  </tbody>\n",
       "</table>\n",
       "</div>"
      ],
      "text/plain": [
       "                     all_creative  advertising_marketing  architecture  \\\n",
       "state                                                                    \n",
       "aguascalientes           1.101123               1.235864      1.426853   \n",
       "baja california          1.168069               1.223875      1.531995   \n",
       "baja california sur      1.191771               1.372960      1.912879   \n",
       "campeche                 1.028936               0.969590      1.732513   \n",
       "chiapas                  0.859626               0.729162      0.688216   \n",
       "\n",
       "                       crafts    design  film_radio_tv  libraries_museums  \\\n",
       "state                                                                       \n",
       "aguascalientes       0.697184  2.064779       0.666773           0.683274   \n",
       "baja california      0.668793  1.304745       1.529529           0.773989   \n",
       "baja california sur  0.537308  1.291483       1.523158           1.646990   \n",
       "campeche             0.180297  0.876763       1.632699           1.105317   \n",
       "chiapas              0.250762  0.616783       1.160418           1.037897   \n",
       "\n",
       "                     music_performing_arts  publishing  software  \n",
       "state                                                             \n",
       "aguascalientes                    1.142952    0.922782  1.604912  \n",
       "baja california                   1.201122    1.158772  1.177308  \n",
       "baja california sur               1.307297    0.723293  0.736276  \n",
       "campeche                          1.148174    0.861818  0.863995  \n",
       "chiapas                           1.218941    0.736913  0.303159  "
      ]
     },
     "execution_count": 99,
     "metadata": {},
     "output_type": "execute_result"
    }
   ],
   "source": [
    "#Now we have everything we need to calculate the LQs\n",
    "\n",
    "#We use the function we defined above. We combine creative data with \n",
    "#not creative to normalise over the total in the locality.\n",
    "#NB we drop not creative at the end because we don't plan to report it.\n",
    "\n",
    "creative_subsector_state_lq,creative_industries_state_lq = [\n",
    "    create_lq_df(pd.concat([x,creative_all_state['not_creative']],axis=1)).drop('not_creative',axis=1) for\n",
    "    x in [creative_subsector_state,creative_industries_state]]\n",
    "\n",
    "#Now we combine the subsector and industry data for mapping\n",
    "\n",
    "creative_state_lq = pd.concat([creative_industries_state_lq,creative_subsector_state_lq],axis=1)\n",
    "\n",
    "creative_state_lq.rename(columns={0:'all_creative'},inplace=True)\n",
    "\n",
    "creative_state_lq.head()"
   ]
  },
  {
   "cell_type": "code",
   "execution_count": 100,
   "metadata": {
    "collapsed": false
   },
   "outputs": [],
   "source": [
    "state_creative_lqs_polys = pd.merge(estados,creative_state_lq.reset_index(drop=False),left_on='NOM_ENT',\n",
    "                               right_on='state')"
   ]
  },
  {
   "cell_type": "code",
   "execution_count": 124,
   "metadata": {
    "collapsed": false
   },
   "outputs": [
    {
     "data": {
      "image/png": "[encoded data removed]",
      "text/plain": [
       "<matplotlib.figure.Figure at 0x123ad0518>"
      ]
     },
     "metadata": {},
     "output_type": "display_data"
    }
   ],
   "source": [
    "#And then we map\n",
    "fig,ax = plt.subplots(figsize=(13,20),nrows=5,ncols=2)\n",
    "\n",
    "for num,sector in enumerate(creative_state_lq.columns):\n",
    "    \n",
    "    if num<5:\n",
    "        col=0\n",
    "        row=num\n",
    "    else:\n",
    "        col=1\n",
    "        row=num-5\n",
    "    \n",
    "    state_creative_lqs_polys.plot(sector,ax=ax[row][col],cmap='bwr',legend=False,edgecolor='black',\n",
    "                                 linewidth=0.5)\n",
    "\n",
    "    ax[row][col].set_title('{x}'.format(x=sector),size=16)\n",
    "\n",
    "    #Set axis off\n",
    "    ax[row][col].get_xaxis().set_visible(False)\n",
    "    ax[row][col].get_yaxis().set_visible(False)\n",
    "    \n",
    "    #ax[row][col].get_legend().set_visible(False)\n",
    "\n"
   ]
  },
  {
   "cell_type": "markdown",
   "metadata": {},
   "source": [
    "## To be continued..."
   ]
  },
  {
   "cell_type": "markdown",
   "metadata": {},
   "source": [
    "* Analysis considering relative specialisation (normalises by activity in other sectors)\n",
    "\n",
    "* Analysis considering levels of activity and specialisation **by sector**\n",
    "\n",
    "...\n",
    "\n",
    "* Comparative analysis\n",
    "  * Compare CI sizebands with rest of the economy or other sectors\n",
    "  * Compare CI incorporation dates with rest of the economy or other sectors\n",
    "* Availability of contact details\n",
    "  * This will inform the survey design and implementation \n"
   ]
  },
  {
   "cell_type": "code",
   "execution_count": null,
   "metadata": {
    "collapsed": true
   },
   "outputs": [],
   "source": []
  }
 ],
 "metadata": {
  "kernelspec": {
   "display_name": "Python 3",
   "language": "python",
   "name": "python3"
  }
 },
 "nbformat": 4,
 "nbformat_minor": 2
}
